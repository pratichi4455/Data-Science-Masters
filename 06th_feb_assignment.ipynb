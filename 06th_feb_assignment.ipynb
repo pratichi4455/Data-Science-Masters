{
 "cells": [
  {
   "cell_type": "markdown",
   "id": "342f16ba-530d-4c6c-9080-452cb532cff9",
   "metadata": {},
   "source": [
    "Answer of Question 1"
   ]
  },
  {
   "cell_type": "code",
   "execution_count": 1,
   "id": "6e81d223-edd7-406f-9ea6-f3ff6556de23",
   "metadata": {},
   "outputs": [
    {
     "name": "stdout",
     "output_type": "stream",
     "text": [
      "Product of all numbers in the list: 0\n"
     ]
    }
   ],
   "source": [
    "def flatten_and_product(input_list):\n",
    "    def flatten(lst):\n",
    "        flat_list = []\n",
    "        for item in lst:\n",
    "            if isinstance(item, (list, tuple, set)):\n",
    "                flat_list.extend(flatten(item))\n",
    "            elif isinstance(item, (int, float)):\n",
    "                flat_list.append(item)\n",
    "            elif isinstance(item, dict):\n",
    "                for key, value in item.items():\n",
    "                    if isinstance(key, (int, float)):\n",
    "                        flat_list.append(key)\n",
    "                    if isinstance(value, (int, float)):\n",
    "                        flat_list.append(value)\n",
    "            else:\n",
    "                try:\n",
    "                    flat_list.extend(map(float, item.split()))\n",
    "                except ValueError:\n",
    "                    pass\n",
    "        return flat_list\n",
    "\n",
    "    flat_list = flatten(input_list)\n",
    "    product = 1\n",
    "\n",
    "    for item in flat_list:\n",
    "        product *= item\n",
    "\n",
    "    return product\n",
    "\n",
    "list1 = [1, 2, 3, 4, [44, 55, 66, True], False, (34, 56, 78, 89, 34), {1, 2, 3, 3, 2, 1},\n",
    "         {1: 34, \"key2\": [55, 67, 78, 89], 4: (45, 22, 61, 34)}, [56, 'data science'], 'Machine Learning']\n",
    "\n",
    "result = flatten_and_product(list1)\n",
    "print(\"Product of all numbers in the list:\", result)\n"
   ]
  },
  {
   "cell_type": "markdown",
   "id": "adf10834-8d3b-449c-aaf4-2339b6f5a17c",
   "metadata": {},
   "source": [
    "Answer of Question 2:-"
   ]
  },
  {
   "cell_type": "code",
   "execution_count": 2,
   "id": "097ba864-889a-4ef1-97df-5b29d594478c",
   "metadata": {},
   "outputs": [
    {
     "name": "stdout",
     "output_type": "stream",
     "text": [
      "Encrypted Message: r$dzmg$gl$yvxlnv$z$wzgz$hxrvmgrhg.\n"
     ]
    }
   ],
   "source": [
    "def encrypt_message(message):\n",
    "    encrypted_message = \"\"\n",
    "    for char in message:\n",
    "        if char.isalpha(): \n",
    "            char = chr(219 - ord(char))\n",
    "        elif char.isspace():  \n",
    "            char = '$'\n",
    "        encrypted_message += char\n",
    "    return encrypted_message\n",
    "\n",
    "input_sentence = \"I want to become a Data Scientist.\"\n",
    "\n",
    "input_sentence = input_sentence.lower()\n",
    "\n",
    "encrypted_result = encrypt_message(input_sentence)\n",
    "\n",
    "print(\"Encrypted Message:\", encrypted_result)"
   ]
  },
  {
   "cell_type": "code",
   "execution_count": null,
   "id": "7e43776c-2fbc-4e7c-af86-2a60f34f237e",
   "metadata": {},
   "outputs": [],
   "source": []
  }
 ],
 "metadata": {
  "kernelspec": {
   "display_name": "Python 3 (ipykernel)",
   "language": "python",
   "name": "python3"
  },
  "language_info": {
   "codemirror_mode": {
    "name": "ipython",
    "version": 3
   },
   "file_extension": ".py",
   "mimetype": "text/x-python",
   "name": "python",
   "nbconvert_exporter": "python",
   "pygments_lexer": "ipython3",
   "version": "3.10.8"
  }
 },
 "nbformat": 4,
 "nbformat_minor": 5
}
