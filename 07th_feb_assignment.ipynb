{
 "cells": [
  {
   "cell_type": "markdown",
   "id": "3774e364-b58f-4046-8aba-6ec0748e4f5d",
   "metadata": {},
   "source": [
    "Answer of Question 1:-"
   ]
  },
  {
   "cell_type": "code",
   "execution_count": 7,
   "id": "c9873cbf-8504-44cb-95fa-b1007e5333ff",
   "metadata": {},
   "outputs": [
    {
     "name": "stdin",
     "output_type": "stream",
     "text": [
      "Please enter the password ABcd@#$223\n"
     ]
    },
    {
     "name": "stdout",
     "output_type": "stream",
     "text": [
      "Valid Password\n"
     ]
    }
   ],
   "source": [
    "import re\n",
    "\n",
    "def is_valid_password(password):\n",
    "    if len(password) != 10:\n",
    "        return \"Invalid Password\"\n",
    "\n",
    "    uppercase_count = len(re.findall(r'[A-Z]', password))\n",
    "    lowercase_count = len(re.findall(r'[a-z]', password))\n",
    "    digit_count = len(re.findall(r'\\d', password))\n",
    "    special_char_count = len(re.findall(r'[!@#$%^&*]', password))\n",
    "\n",
    "    if uppercase_count >= 2 and lowercase_count >= 2 and digit_count >= 1 and special_char_count >= 3:\n",
    "        return \"Valid Password\"\n",
    "    else:\n",
    "        return \"Invalid Password\"\n",
    "\n",
    "password = input(\"Please enter the password\")\n",
    "result = is_valid_password(password)\n",
    "print(result)\n",
    "\n"
   ]
  },
  {
   "cell_type": "markdown",
   "id": "2b02929c-02d0-4ce4-a05e-40472ef1f555",
   "metadata": {},
   "source": [
    "Answer Question 2:-"
   ]
  },
  {
   "cell_type": "markdown",
   "id": "c5a66060-964c-47a1-8bf5-a2729a245d19",
   "metadata": {},
   "source": [
    "Check if the string starts with a particular letter:"
   ]
  },
  {
   "cell_type": "code",
   "execution_count": 8,
   "id": "cc609180-23d5-4fc8-879c-ce554f6103b8",
   "metadata": {},
   "outputs": [
    {
     "name": "stdout",
     "output_type": "stream",
     "text": [
      "True\n"
     ]
    }
   ],
   "source": [
    "starts_with_letter = lambda string, letter: string.startswith(letter)\n",
    "result = starts_with_letter(\"Python\", \"P\")\n",
    "print(result)"
   ]
  },
  {
   "cell_type": "markdown",
   "id": "4523620a-d58a-4539-9c6a-d701b9676566",
   "metadata": {},
   "source": [
    "Check if the string is numeric:"
   ]
  },
  {
   "cell_type": "code",
   "execution_count": 9,
   "id": "35e99a0d-13f2-4402-9528-dea9e2c009c3",
   "metadata": {},
   "outputs": [
    {
     "name": "stdout",
     "output_type": "stream",
     "text": [
      "True\n"
     ]
    }
   ],
   "source": [
    "is_numeric = lambda string: string.isnumeric()\n",
    "result = is_numeric(\"12345\")\n",
    "print(result)  # True\n"
   ]
  },
  {
   "cell_type": "markdown",
   "id": "ade0ce73-990a-4956-846d-a66c13ced8fe",
   "metadata": {},
   "source": [
    "Check if the string is numeric:"
   ]
  },
  {
   "cell_type": "code",
   "execution_count": 10,
   "id": "293dd9de-0874-41fc-b6a7-e55d877dad9d",
   "metadata": {},
   "outputs": [
    {
     "name": "stdout",
     "output_type": "stream",
     "text": [
      "True\n"
     ]
    }
   ],
   "source": [
    "is_numeric = lambda string: string.isnumeric()\n",
    "result = is_numeric(\"12345\")\n",
    "print(result)  # True"
   ]
  },
  {
   "cell_type": "markdown",
   "id": "bead03a4-5bfa-4835-8419-9db76174bf0a",
   "metadata": {},
   "source": [
    "Find the squares of numbers from 1 to 10:"
   ]
  },
  {
   "cell_type": "code",
   "execution_count": 12,
   "id": "5a5d4ce7-fd43-42ad-beac-8ef651a86984",
   "metadata": {},
   "outputs": [
    {
     "name": "stdout",
     "output_type": "stream",
     "text": [
      "[1, 4, 9, 16, 25, 36, 49, 64, 81, 100]\n"
     ]
    }
   ],
   "source": [
    "squares = [x**2 for x in range(1, 11)]\n",
    "print(squares)"
   ]
  },
  {
   "cell_type": "markdown",
   "id": "abac6af6-dc1d-454a-a0dc-573ac76e110a",
   "metadata": {},
   "source": [
    "Find the cube root of numbers from 1 to 10:"
   ]
  },
  {
   "cell_type": "code",
   "execution_count": 13,
   "id": "8ed3e771-7cf8-4247-b91f-c05f7c60e83d",
   "metadata": {},
   "outputs": [
    {
     "name": "stdout",
     "output_type": "stream",
     "text": [
      "[1.0, 1.2599210498948732, 1.4422495703074083, 1.5874010519681994, 1.7099759466766968, 1.8171205928321397, 1.912931182772389, 2.0, 2.080083823051904, 2.154434690031884]\n"
     ]
    }
   ],
   "source": [
    "from math import pow\n",
    "cube_roots = [pow(x, 1/3) for x in range(1, 11)]\n",
    "print(cube_roots)"
   ]
  },
  {
   "cell_type": "markdown",
   "id": "1cc2ac62-f05c-47fc-a9ce-2df045502c73",
   "metadata": {},
   "source": [
    "Check if a given number is even:"
   ]
  },
  {
   "cell_type": "code",
   "execution_count": 14,
   "id": "3b1d9074-ee4d-4a8f-9f8b-a5c2121ab452",
   "metadata": {},
   "outputs": [
    {
     "name": "stdout",
     "output_type": "stream",
     "text": [
      "True\n"
     ]
    }
   ],
   "source": [
    "is_even = lambda x: x % 2 == 0\n",
    "result = is_even(6)\n",
    "print(result)"
   ]
  },
  {
   "cell_type": "markdown",
   "id": "ba08fe40-b255-49c3-8953-07e2aa8b0217",
   "metadata": {},
   "source": [
    "Filter odd numbers from a given list:"
   ]
  },
  {
   "cell_type": "code",
   "execution_count": 15,
   "id": "61a1212b-62c3-4214-9ffb-e951449c435f",
   "metadata": {},
   "outputs": [
    {
     "name": "stdout",
     "output_type": "stream",
     "text": [
      "[1, 3, 5, 7, 9]\n"
     ]
    }
   ],
   "source": [
    "numbers = [1, 2, 3, 4, 5, 6, 7, 8, 9, 10]\n",
    "odd_numbers = list(filter(lambda x: x % 2 != 0, numbers))\n",
    "print(odd_numbers)"
   ]
  },
  {
   "cell_type": "markdown",
   "id": "bf1ced3d-8803-4caf-b82f-68fb7243fecc",
   "metadata": {},
   "source": [
    "Sort a list of integers into positive and negative integers lists:"
   ]
  },
  {
   "cell_type": "code",
   "execution_count": 16,
   "id": "e5734578-1019-4aa8-823a-a801ec7b951a",
   "metadata": {},
   "outputs": [
    {
     "name": "stdout",
     "output_type": "stream",
     "text": [
      "Positive: [1, 2, 3, 4, 5, 6]\n",
      "Negative: [-1, -2, -3, -4, -5]\n"
     ]
    }
   ],
   "source": [
    "numbers = [1, 2, 3, 4, 5, 6, -1, -2, -3, -4, -5, 0]\n",
    "positive_numbers = list(filter(lambda x: x > 0, numbers))\n",
    "negative_numbers = list(filter(lambda x: x < 0, numbers))\n",
    "print(\"Positive:\", positive_numbers)\n",
    "print(\"Negative:\", negative_numbers)"
   ]
  },
  {
   "cell_type": "code",
   "execution_count": null,
   "id": "e3b25aec-953a-4654-a0b0-2593c1280ac5",
   "metadata": {},
   "outputs": [],
   "source": []
  }
 ],
 "metadata": {
  "kernelspec": {
   "display_name": "Python 3 (ipykernel)",
   "language": "python",
   "name": "python3"
  },
  "language_info": {
   "codemirror_mode": {
    "name": "ipython",
    "version": 3
   },
   "file_extension": ".py",
   "mimetype": "text/x-python",
   "name": "python",
   "nbconvert_exporter": "python",
   "pygments_lexer": "ipython3",
   "version": "3.10.8"
  }
 },
 "nbformat": 4,
 "nbformat_minor": 5
}
