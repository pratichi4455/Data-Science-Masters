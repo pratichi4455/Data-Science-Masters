{
 "cells": [
  {
   "cell_type": "markdown",
   "id": "265f77c9-0e51-451a-81c8-adbe5aed1b62",
   "metadata": {},
   "source": [
    "Question1:-"
   ]
  },
  {
   "cell_type": "code",
   "execution_count": 1,
   "id": "ebc64c7b-c05c-46db-848a-bd03baf3223c",
   "metadata": {},
   "outputs": [],
   "source": [
    "class Vehicle:\n",
    "    def __init__(self, name_of_vehicle, max_speed, average_speed):\n",
    "        self.name_of_vehicle = name_of_vehicle\n",
    "        self.max_speed = max_speed\n",
    "        self.average_speed = average_speed"
   ]
  },
  {
   "cell_type": "code",
   "execution_count": 2,
   "id": "0017aaf0-1438-4ff1-ac69-f93d15b720ef",
   "metadata": {},
   "outputs": [
    {
     "name": "stdout",
     "output_type": "stream",
     "text": [
      "Name: Tiago, Max Speed: 200 km/h, Average Speed: 60 km/h\n"
     ]
    }
   ],
   "source": [
    "car = Vehicle(\"Tiago\", 200, 60)\n",
    "print(f\"Name: {car.name_of_vehicle}, Max Speed: {car.max_speed} km/h, Average Speed: {car.average_speed} km/h\")"
   ]
  },
  {
   "cell_type": "markdown",
   "id": "b1a691d3-17af-4d66-9bfd-5ab34fdfae83",
   "metadata": {},
   "source": [
    "Question 2:-"
   ]
  },
  {
   "cell_type": "code",
   "execution_count": 3,
   "id": "4f2fdd9d-505a-4e62-b759-3bff0279d62f",
   "metadata": {},
   "outputs": [],
   "source": [
    "class Vehicle:\n",
    "    def __init__(self, name_of_vehicle, max_speed, average_speed):\n",
    "        self.name_of_vehicle = name_of_vehicle\n",
    "        self.max_speed = max_speed\n",
    "        self.average_speed = average_speed\n",
    "\n",
    "class Car(Vehicle):\n",
    "    def seating_capacity(self, capacity):\n",
    "        return f\"{self.name_of_vehicle} has a seating capacity of {capacity} passengers.\""
   ]
  },
  {
   "cell_type": "code",
   "execution_count": 4,
   "id": "213763b1-3340-49eb-aa47-568d31d77497",
   "metadata": {},
   "outputs": [
    {
     "name": "stdout",
     "output_type": "stream",
     "text": [
      "Name: Car, Max Speed: 200 km/h, Average Speed: 60 km/h\n",
      "Car has a seating capacity of 5 passengers.\n"
     ]
    }
   ],
   "source": [
    "car_instance = Car(\"Car\", 200, 60)\n",
    "print(f\"Name: {car_instance.name_of_vehicle}, Max Speed: {car_instance.max_speed} km/h, Average Speed: {car_instance.average_speed} km/h\")\n",
    "print(car_instance.seating_capacity(5))"
   ]
  },
  {
   "cell_type": "markdown",
   "id": "9790d137-1408-4362-a170-69c871306b6b",
   "metadata": {},
   "source": [
    "Question 3:-"
   ]
  },
  {
   "cell_type": "markdown",
   "id": "9066fca0-c075-4c2f-a5d0-285985214913",
   "metadata": {},
   "source": [
    "Multiple inheritance occurs in object-oriented programming when a class inherits from more than one base class. This means that a child class can inherit attributes and methods from multiple parent classes.\n",
    "Example: there is class1, class2 and class3. if class3 can inherit the property of class1 and class2, then it known as multiple inheritence."
   ]
  },
  {
   "cell_type": "code",
   "execution_count": 5,
   "id": "e6415daa-ae9e-4bef-a791-894eb5451829",
   "metadata": {},
   "outputs": [],
   "source": [
    "class Engine:\n",
    "    def start(self):\n",
    "        print(\"Engine started.\")\n",
    "\n",
    "class ElectricMotor:\n",
    "    def power(self):\n",
    "        print(\"Electric power activated.\")\n",
    "\n",
    "class HybridCar(Engine, ElectricMotor):\n",
    "    def drive(self):\n",
    "        print(\"Hybrid car is ready to drive.\")\n"
   ]
  },
  {
   "cell_type": "code",
   "execution_count": 6,
   "id": "8bb5a34c-5a03-4b35-88c8-9d0988ac0d86",
   "metadata": {},
   "outputs": [
    {
     "name": "stdout",
     "output_type": "stream",
     "text": [
      "Engine started.\n",
      "Electric power activated.\n",
      "Hybrid car is ready to drive.\n"
     ]
    }
   ],
   "source": [
    "hybrid_car = HybridCar()\n",
    "hybrid_car.start()  # Inherited from Engine class\n",
    "hybrid_car.power()  # Inherited from ElectricMotor class\n",
    "hybrid_car.drive() "
   ]
  },
  {
   "cell_type": "markdown",
   "id": "940ca542-4d0d-4c8d-b0d6-79a3cc992aeb",
   "metadata": {},
   "source": [
    "Question4:-"
   ]
  },
  {
   "cell_type": "markdown",
   "id": "16f7a037-26bd-4711-942d-2596546bfb34",
   "metadata": {},
   "source": [
    "In Python, getter and setter methods are used to access and modify the attributes (instance variables) of a class in a controlled manner. Getter methods allow you to retrieve the value of an attribute, and setter methods allow you to modify the value of an attribute."
   ]
  },
  {
   "cell_type": "code",
   "execution_count": 7,
   "id": "20aef6f5-407b-4a40-9ae4-f42d334197c2",
   "metadata": {},
   "outputs": [],
   "source": [
    "class Car:\n",
    "    def __init__(self, make, model, year):\n",
    "        self._make = make\n",
    "        self._model = model\n",
    "        self._year = year\n",
    "\n",
    "    # Getter method for 'make'\n",
    "    def get_make(self):\n",
    "        return self._make\n",
    "\n",
    "    # Setter method for 'make'\n",
    "    def set_make(self, make):\n",
    "        self._make = make\n",
    "\n",
    "    # Getter method for 'model'\n",
    "    def get_model(self):\n",
    "        return self._model\n",
    "\n",
    "    # Setter method for 'model'\n",
    "    def set_model(self, model):\n",
    "        self._model = model\n",
    "\n",
    "    # Getter method for 'year'\n",
    "    def get_year(self):\n",
    "        return self._year\n",
    "\n",
    "    # Setter method for 'year'\n",
    "    def set_year(self, year):\n",
    "        self._year = year"
   ]
  },
  {
   "cell_type": "code",
   "execution_count": 8,
   "id": "90b889c4-1e9d-4dd1-a906-764d5880f473",
   "metadata": {},
   "outputs": [],
   "source": [
    "car_instance = Car(\"Toyota\", \"Camry\", 2022)"
   ]
  },
  {
   "cell_type": "code",
   "execution_count": 9,
   "id": "d1f73d8e-d2cc-49a5-ad4c-f2d5816712ba",
   "metadata": {},
   "outputs": [
    {
     "name": "stdout",
     "output_type": "stream",
     "text": [
      "Make: Toyota\n",
      "Model: Camry\n",
      "Year: 2022\n"
     ]
    }
   ],
   "source": [
    "print(f\"Make: {car_instance.get_make()}\")\n",
    "print(f\"Model: {car_instance.get_model()}\")\n",
    "print(f\"Year: {car_instance.get_year()}\")"
   ]
  },
  {
   "cell_type": "code",
   "execution_count": 10,
   "id": "614daf11-8910-407d-a7b7-61c71b6a6002",
   "metadata": {},
   "outputs": [],
   "source": [
    "# Using setter methods\n",
    "car_instance.set_make(\"Honda\")\n",
    "car_instance.set_model(\"Accord\")\n",
    "car_instance.set_year(2023)"
   ]
  },
  {
   "cell_type": "code",
   "execution_count": 11,
   "id": "f22b624d-b32d-4733-bddc-16696ea88943",
   "metadata": {},
   "outputs": [
    {
     "name": "stdout",
     "output_type": "stream",
     "text": [
      "Updated Make: Honda\n",
      "Updated Model: Accord\n",
      "Updated Year: 2023\n"
     ]
    }
   ],
   "source": [
    "# Displaying updated values using getter methods\n",
    "print(f\"Updated Make: {car_instance.get_make()}\")\n",
    "print(f\"Updated Model: {car_instance.get_model()}\")\n",
    "print(f\"Updated Year: {car_instance.get_year()}\")"
   ]
  },
  {
   "cell_type": "markdown",
   "id": "65af55b7-9edb-4087-874a-319af4d9b776",
   "metadata": {},
   "source": [
    "Question5:-"
   ]
  },
  {
   "cell_type": "markdown",
   "id": "19ea4fa1-a3e7-453c-9722-60ff16abb9c9",
   "metadata": {},
   "source": [
    "Method overriding in Python refers to the ability of a subclass to provide a specific implementation for a method that is already defined in its superclass. When a method in the subclass has the same name and signature as a method in its superclass, the method in the subclass overrides the method in the superclass."
   ]
  },
  {
   "cell_type": "code",
   "execution_count": 12,
   "id": "730d66d7-8429-4b77-a830-cf1de8b68985",
   "metadata": {},
   "outputs": [],
   "source": [
    "class Animal:\n",
    "    def make_sound(self):\n",
    "        print(\"Generic animal sound\")\n",
    "\n",
    "class Dog(Animal):\n",
    "    def make_sound(self):\n",
    "        print(\"Woof! Woof!\")\n",
    "\n",
    "class Cat(Animal):\n",
    "    def make_sound(self):\n",
    "        print(\"Meow\")"
   ]
  },
  {
   "cell_type": "code",
   "execution_count": 13,
   "id": "cfe128dc-ab81-4c93-990d-2538bbdd3493",
   "metadata": {},
   "outputs": [
    {
     "name": "stdout",
     "output_type": "stream",
     "text": [
      "Generic Animal Sound:\n",
      "Generic animal sound\n",
      "\n",
      "Dog Sound:\n",
      "Woof! Woof!\n",
      "\n",
      "Cat Sound:\n",
      "Meow\n"
     ]
    }
   ],
   "source": [
    "generic_animal = Animal()\n",
    "dog = Dog()\n",
    "cat = Cat()\n",
    "\n",
    "print(\"Generic Animal Sound:\")\n",
    "generic_animal.make_sound() \n",
    "\n",
    "print(\"\\nDog Sound:\")\n",
    "dog.make_sound()\n",
    "print(\"\\nCat Sound:\")\n",
    "cat.make_sound()"
   ]
  },
  {
   "cell_type": "code",
   "execution_count": null,
   "id": "4c473e23-6773-4804-9ce7-92e4ce6f8003",
   "metadata": {},
   "outputs": [],
   "source": []
  }
 ],
 "metadata": {
  "kernelspec": {
   "display_name": "Python 3 (ipykernel)",
   "language": "python",
   "name": "python3"
  },
  "language_info": {
   "codemirror_mode": {
    "name": "ipython",
    "version": 3
   },
   "file_extension": ".py",
   "mimetype": "text/x-python",
   "name": "python",
   "nbconvert_exporter": "python",
   "pygments_lexer": "ipython3",
   "version": "3.10.8"
  }
 },
 "nbformat": 4,
 "nbformat_minor": 5
}
