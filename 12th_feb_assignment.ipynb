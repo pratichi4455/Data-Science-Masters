{
 "cells": [
  {
   "cell_type": "markdown",
   "id": "7de33d88-78be-40e8-86b2-4d0104632b58",
   "metadata": {},
   "source": [
    "Question1:-"
   ]
  },
  {
   "cell_type": "markdown",
   "id": "8bf4abbb-62dd-414b-bfd8-7c89aafbdb3a",
   "metadata": {},
   "source": [
    "An exception in Python is an abnormal event that occurs during the execution of a program, disrupting the normal flow of the program's instructions. When an exception occurs, the interpreter raises an exception object, which can then be caught and handled by appropriate code. Exceptions can occur for various reasons, such as dividing by zero, trying to access an index that doesn't exist, or attempting to open a file that doesn't exist.\n",
    "\n",
    "Difference between Exceptions and Syntax Errors:\n",
    "\n",
    "Nature of Errors:\n",
    "\n",
    "Exception: Exceptions occur during the runtime of a program. They are unexpected events that disrupt the normal flow of the program.\n",
    "Syntax Error: Syntax errors, on the other hand, occur during the parsing of the program. They are errors in the structure of the code and prevent the interpreter from understanding or executing the program.\n",
    "Timing of Detection:\n",
    "\n",
    "Exception: Exceptions are detected during the runtime when the program is actually executing.\n",
    "Syntax Error: Syntax errors are detected during the parsing phase, before the program begins execution.\n",
    "Handling:\n",
    "\n",
    "Exception: Exceptions can be caught and handled using try, except, finally, and else blocks. This allows for graceful error handling and recovery.\n",
    "Syntax Error: Syntax errors cannot be caught or handled during runtime. They must be fixed before the program is executed."
   ]
  },
  {
   "cell_type": "markdown",
   "id": "991953c1-ee5b-4414-b1d8-252c6419a324",
   "metadata": {},
   "source": [
    "Question2:-"
   ]
  },
  {
   "cell_type": "markdown",
   "id": "4033e3ad-0a0c-4434-b1bc-3dcb12e0e6ab",
   "metadata": {},
   "source": [
    "When an exception is not handled in Python, it propagates up the call stack until it either encounters a suitable except block that can handle the exception or reaches the top level of the program. If the exception is not caught and handled anywhere along the way, the program terminates, and an error message is displayed."
   ]
  },
  {
   "cell_type": "markdown",
   "id": "53070a3f-d898-4e5a-ab1c-92a2d047d337",
   "metadata": {},
   "source": [
    "Question3:-"
   ]
  },
  {
   "cell_type": "markdown",
   "id": "a9c91d1f-b962-437d-9caf-b847604aa148",
   "metadata": {},
   "source": [
    "try: The try block encloses a section of code where an exception might occur. This is the section of code that you want to monitor for exceptions.\n",
    "\n",
    "except: The except block is used to catch and handle specific exceptions that might occur within the corresponding try block. You can have multiple except blocks to handle different types of exceptions.\n",
    "\n",
    "finally: The finally block contains code that will be executed regardless of whether an exception occurred or not. This block is useful for performing cleanup operations, such as closing files or releasing resources.\n",
    "\n",
    "else (optional): The else block is executed if no exceptions are raised in the try block. It is often used to include code that should run when no exceptions occur."
   ]
  },
  {
   "cell_type": "code",
   "execution_count": 2,
   "id": "6518a1a6-d010-4584-8e04-5b85f12cd3de",
   "metadata": {},
   "outputs": [
    {
     "name": "stdout",
     "output_type": "stream",
     "text": [
      "Result of division: 5.0\n",
      "No exception occurred.\n",
      "This block always runs, whether an exception occurred or not.\n",
      "Exception: division by zero\n",
      "This block always runs, whether an exception occurred or not.\n"
     ]
    }
   ],
   "source": [
    "def divide(a, b):\n",
    "    try:\n",
    "        result = a / b\n",
    "        print(f\"Result of division: {result}\")\n",
    "    except ZeroDivisionError as e:\n",
    "        print(f\"Exception: {e}\")\n",
    "    else:\n",
    "        print(\"No exception occurred.\")\n",
    "    finally:\n",
    "        print(\"This block always runs, whether an exception occurred or not.\")\n",
    "\n",
    "# Example calls\n",
    "divide(10, 2)   # No exception\n",
    "divide(10, 0)   # Division by zero\n"
   ]
  },
  {
   "cell_type": "markdown",
   "id": "a5fad424-d937-4a86-b113-3d14109d7ea3",
   "metadata": {},
   "source": [
    "Question4:-"
   ]
  },
  {
   "cell_type": "code",
   "execution_count": 3,
   "id": "8e32f89d-59d7-4706-957c-21576ac589e7",
   "metadata": {},
   "outputs": [
    {
     "name": "stdout",
     "output_type": "stream",
     "text": [
      "Result of division: 5.0\n",
      "This block always runs, whether an exception occurred or not.\n",
      "Exception: division by zero\n",
      "This block always runs, whether an exception occurred or not.\n"
     ]
    }
   ],
   "source": [
    "#Try and Else\n",
    "\n",
    "def divide(a, b):\n",
    "    try:\n",
    "        result = a / b\n",
    "    except ZeroDivisionError as e:\n",
    "        print(f\"Exception: {e}\")\n",
    "    else:\n",
    "        print(f\"Result of division: {result}\")\n",
    "    finally:\n",
    "        print(\"This block always runs, whether an exception occurred or not.\")\n",
    "\n",
    "# Example calls\n",
    "divide(10, 2)   # No exception\n",
    "divide(10, 0)   # Division by zero\n"
   ]
  },
  {
   "cell_type": "code",
   "execution_count": 4,
   "id": "cfebb786-fa58-4a02-8fed-d840de31eb5d",
   "metadata": {},
   "outputs": [
    {
     "name": "stdout",
     "output_type": "stream",
     "text": [
      "Content of the file: This is a line written using write()\n",
      "Line 1\n",
      "Line 2\n",
      "Line 3\n",
      "\n",
      "File closed in the finally block.\n"
     ]
    }
   ],
   "source": [
    "#finally\n",
    "def file_operations():\n",
    "    try:\n",
    "        file = open('example.txt', 'r')\n",
    "        content = file.read()\n",
    "        print(f\"Content of the file: {content}\")\n",
    "    except FileNotFoundError:\n",
    "        print(\"File not found!\")\n",
    "    finally:\n",
    "        if 'file' in locals():\n",
    "            file.close()\n",
    "            print(\"File closed in the finally block.\")\n",
    "\n",
    "# Example call\n",
    "file_operations()\n"
   ]
  },
  {
   "cell_type": "code",
   "execution_count": 5,
   "id": "c8bcb9a8-9590-4f81-8095-ee25a7baeabd",
   "metadata": {},
   "outputs": [
    {
     "name": "stdout",
     "output_type": "stream",
     "text": [
      "You are eligible.\n",
      "Exception: Age cannot be negative.\n",
      "Exception: You are too young.\n"
     ]
    }
   ],
   "source": [
    "#raise\n",
    "def check_age(age):\n",
    "    try:\n",
    "        if age < 0:\n",
    "            raise ValueError(\"Age cannot be negative.\")\n",
    "        elif age < 18:\n",
    "            raise ValueError(\"You are too young.\")\n",
    "        else:\n",
    "            print(\"You are eligible.\")\n",
    "    except ValueError as e:\n",
    "        print(f\"Exception: {e}\")\n",
    "\n",
    "# Example calls\n",
    "check_age(25)   # Eligible\n",
    "check_age(-5)   # Exception: Age cannot be negative.\n",
    "check_age(15)   # Exception: You are too young.\n"
   ]
  },
  {
   "cell_type": "markdown",
   "id": "fd9ffb8f-7bcf-46e2-8045-50267256bd6c",
   "metadata": {},
   "source": [
    "Question5:-"
   ]
  },
  {
   "cell_type": "markdown",
   "id": "edd722d7-2509-4441-af7c-74930edc35d0",
   "metadata": {},
   "source": [
    "Custom Exceptions in Python:\n",
    "Custom exceptions in Python refer to user-defined exceptions that extend the built-in Exception class or one of its subclasses. These exceptions are created to represent specific error conditions or situations that are relevant to a particular application or module.\n",
    "\n",
    "Why do we need Custom Exceptions:\n",
    "\n",
    "Clarity and Readability: Custom exceptions provide a way to clearly communicate specific error conditions in your code. By defining custom exception classes, you make your code more readable and understandable for other developers.\n",
    "\n",
    "Modularity: Custom exceptions allow you to encapsulate error-handling logic within your code modules. This promotes modularity and helps in organizing and maintaining your codebase.\n",
    "\n",
    "Granular Error Handling: With custom exceptions, you can handle different error scenarios differently. This granularity allows you to provide more detailed error messages or take specific actions based on the type of error."
   ]
  },
  {
   "cell_type": "code",
   "execution_count": 6,
   "id": "c54c9b5f-a3dc-40ac-b3a8-cdca162eb31d",
   "metadata": {},
   "outputs": [
    {
     "name": "stdout",
     "output_type": "stream",
     "text": [
      "Error: Insufficient funds. Current balance: 100, attempted withdrawal: 150\n"
     ]
    }
   ],
   "source": [
    "#custom Exceptions\n",
    "class InsufficientFundsError(Exception):\n",
    "    def __init__(self, balance, amount):\n",
    "        self.balance = balance\n",
    "        self.amount = amount\n",
    "        super().__init__(f\"Insufficient funds. Current balance: {balance}, attempted withdrawal: {amount}\")\n",
    "\n",
    "def withdraw(balance, amount):\n",
    "    if amount > balance:\n",
    "        raise InsufficientFundsError(balance, amount)\n",
    "    else:\n",
    "        new_balance = balance - amount\n",
    "        print(f\"Withdrawal successful. New balance: {new_balance}\")\n",
    "        return new_balance\n",
    "\n",
    "# Example usage\n",
    "try:\n",
    "    withdraw(100, 150)\n",
    "except InsufficientFundsError as e:\n",
    "    print(f\"Error: {e}\")\n"
   ]
  },
  {
   "cell_type": "markdown",
   "id": "17091d8d-9de1-4f8f-ae70-95c1e964ff3b",
   "metadata": {},
   "source": [
    "Question6:-"
   ]
  },
  {
   "cell_type": "code",
   "execution_count": 7,
   "id": "b5fe7663-585f-4504-acba-7d5fef5656ca",
   "metadata": {},
   "outputs": [
    {
     "name": "stdout",
     "output_type": "stream",
     "text": [
      "Processing positive value: 10\n",
      "Error: Negative values are not allowed. Received: -5\n"
     ]
    }
   ],
   "source": [
    "class NegativeValueError(Exception):\n",
    "    def __init__(self, value):\n",
    "        self.value = value\n",
    "        super().__init__(f\"Negative values are not allowed. Received: {value}\")\n",
    "\n",
    "def process_positive_value(number):\n",
    "    try:\n",
    "        if number < 0:\n",
    "            raise NegativeValueError(number)\n",
    "        else:\n",
    "            print(f\"Processing positive value: {number}\")\n",
    "    except NegativeValueError as e:\n",
    "        print(f\"Error: {e}\")\n",
    "\n",
    "# Example usage\n",
    "process_positive_value(10)   \n",
    "process_positive_value(-5)\n"
   ]
  },
  {
   "cell_type": "code",
   "execution_count": null,
   "id": "71307d80-db1e-4c82-9eb2-105efcdfe74f",
   "metadata": {},
   "outputs": [],
   "source": []
  }
 ],
 "metadata": {
  "kernelspec": {
   "display_name": "Python 3 (ipykernel)",
   "language": "python",
   "name": "python3"
  },
  "language_info": {
   "codemirror_mode": {
    "name": "ipython",
    "version": 3
   },
   "file_extension": ".py",
   "mimetype": "text/x-python",
   "name": "python",
   "nbconvert_exporter": "python",
   "pygments_lexer": "ipython3",
   "version": "3.10.8"
  }
 },
 "nbformat": 4,
 "nbformat_minor": 5
}
