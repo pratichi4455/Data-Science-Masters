{
 "cells": [
  {
   "cell_type": "markdown",
   "id": "1c762d24-7f9a-4fed-92f2-e4db5c39fda6",
   "metadata": {},
   "source": [
    "Question 1: What is MongoDB? Explain non-relational databases in short. In which scenarios it is preferred to use\n",
    "MongoDB over SQL databases?"
   ]
  },
  {
   "cell_type": "markdown",
   "id": "243d740d-9a86-40c8-9bf7-67ecf1eec32c",
   "metadata": {},
   "source": [
    "Answer:\n",
    "    \n",
    "MongoDB is a popular, open-source, document-oriented NoSQL (non-relational) database system. It stores data in a flexible, JSON-like format called BSON (Binary JSON), allowing for dynamic schemas and easy scalability. MongoDB can handle large volumes of data, high throughput, and provides high availability and horizontal scalability.\n",
    "\n",
    "Non-relational databases, also known as NoSQL databases, are databases that do not follow the traditional relational database model based on tables and SQL (Structured Query Language). Instead, they use various data models such as document, key-value, column-family, or graph models to store and retrieve data. Non-relational databases are preferred in scenarios where:\n",
    "\n",
    "Flexible schema requirements: Non-relational databases like MongoDB are schema-less or have flexible schemas, allowing for easy adaptation to changing data structures.\n",
    "\n",
    "Scalability: Non-relational databases are designed to handle large volumes of data and high throughput. They provide horizontal scalability, allowing you to scale out by adding more servers to distribute the load.\n",
    "\n",
    "Unstructured or semi-structured data: Non-relational databases excel in storing unstructured or semi-structured data, such as JSON documents, which do not fit well into the rigid structure of traditional SQL databases.\n",
    "\n",
    "Agile development: Non-relational databases are well-suited for agile development environments where requirements evolve rapidly, as they provide flexibility in data modeling without the need for costly schema migrations.\n",
    "\n",
    "MongoDB is preferred over SQL databases in scenarios such as:\n",
    "\n",
    "Big data applications: MongoDB is efficient at handling large volumes of data commonly found in big data applications, such as social media analytics, IoT (Internet of Things), and real-time analytics.\n",
    "\n",
    "Real-time applications: MongoDB's flexible schema and high availability make it suitable for real-time applications requiring low-latency data access and high concurrency, such as gaming, messaging platforms, and financial trading systems.\n",
    "\n",
    "Content management systems (CMS): MongoDB's document-oriented nature makes it well-suited for content management systems where content structures can vary widely and need to be stored efficiently.\n",
    "\n",
    "Prototyping and rapid development: MongoDB's schema-less design allows for rapid prototyping and development iterations, making it ideal for agile software development environments."
   ]
  },
  {
   "cell_type": "markdown",
   "id": "a1b3df3a-4945-48cc-80ef-57cf3415730c",
   "metadata": {},
   "source": [
    "Question 2: State and Explain the features of MongoDB."
   ]
  },
  {
   "cell_type": "markdown",
   "id": "7744e48c-19fc-46ec-a266-8b0044245a02",
   "metadata": {},
   "source": [
    "Answer:\n",
    "\n",
    "MongoDB offers several features that make it a popular choice for developers and businesses alike. Here are some of the key features of MongoDB:\n",
    "\n",
    "Document-Oriented: MongoDB stores data in flexible, JSON-like documents called BSON. This document-oriented approach allows developers to store complex, nested data structures in a single document, making it easier to represent real-world entities without the need for complex joins typical in relational databases.\n",
    "\n",
    "Flexible Schema: MongoDB's schema-less design allows for dynamic and flexible schemas. Unlike traditional SQL databases, MongoDB doesn't enforce a rigid schema, so fields can be added or modified on the fly without requiring downtime or schema migrations. This flexibility is particularly beneficial in agile development environments where requirements evolve rapidly.\n",
    "\n",
    "High Availability: MongoDB provides built-in support for high availability through replica sets. A replica set is a group of MongoDB instances that maintain the same data set, ensuring redundancy and fault tolerance. In the event of a primary node failure, a replica set automatically elects a new primary node, ensuring continuous availability of data.\n",
    "\n",
    "Horizontal Scalability: MongoDB scales horizontally by sharding data across multiple servers. Sharding distributes data across multiple machines, allowing MongoDB to handle large volumes of data and high throughput. This horizontal scalability enables MongoDB to grow with the demands of an application, ensuring performance and scalability as data volumes increase.\n",
    "\n",
    "Indexing: MongoDB supports various types of indexes, including single-field, compound, multi-key, text, and geospatial indexes. Indexes improve query performance by allowing MongoDB to quickly locate documents based on indexed fields. Developers can create indexes to optimize queries and ensure efficient data retrieval.\n",
    "\n",
    "Rich Query Language: MongoDB's query language supports a wide range of operations for querying, updating, and aggregating data. Developers can use a rich set of operators and functions to perform complex queries, including filtering, sorting, aggregation, and text search. MongoDB's query language is intuitive and expressive, making it easy to work with complex data structures.\n",
    "\n",
    "Geospatial Queries: MongoDB provides support for geospatial queries, allowing developers to store and query geospatial data such as points, lines, and polygons. With geospatial indexes and operators, developers can perform proximity searches, find points within a certain radius, and calculate distances between objects.\n",
    "\n",
    "Ad Hoc Queries: MongoDB supports ad hoc queries, allowing developers to query data without predefined schemas or complex joins. This flexibility enables developers to explore and analyze data interactively, making it easier to derive insights and extract value from data.\n",
    "\n",
    "Aggregation Framework: MongoDB's aggregation framework provides a powerful set of operators and stages for performing data aggregation and transformation tasks. Developers can use the aggregation framework to perform complex analytics, data processing, and reporting tasks directly within the database, minimizing data movement and improving performance.\n",
    "\n",
    "Security Features: MongoDB offers robust security features to protect data and ensure compliance with security standards. These features include authentication, authorization, encryption at rest, encryption in transit, auditing, and role-based access control (RBAC). MongoDB's security features help safeguard sensitive data and prevent unauthorized access to the database."
   ]
  },
  {
   "cell_type": "markdown",
   "id": "46cd9e82-e0b1-4f72-915f-fbdd97bd16c4",
   "metadata": {},
   "source": [
    "Question 3: Write a code to connect MongoDB to Python. Also, create a database and a collection in MongoDB."
   ]
  },
  {
   "cell_type": "markdown",
   "id": "ce30ca04-16ed-40bf-9af6-62e5844b6142",
   "metadata": {
    "tags": []
   },
   "source": [
    "Answer :\n",
    "\n",
    "Connect mongodb to pthon:\n",
    "\n",
    "\n",
    "from pymongo.mongo_client import MongoClient\n",
    "\n",
    "uri = \"mongodb+srv://pratichigaur4455:<password>cluster0.vzyauyq.mongodb.net/?retryWrites=true&w=majority&appName=Cluster0\"\n",
    "\n",
    "# Create a new client and connect to the server\n",
    "client = MongoClient(uri)\n",
    "\n",
    "# Send a ping to confirm a successful connection\n",
    "try:\n",
    "    client.admin.command('ping')\n",
    "    print(\"Pinged your deployment. You successfully connected to MongoDB!\")\n",
    "except Exception as e:\n",
    "    print(e)\n",
    "    \n",
    "\n",
    "Create Database:\n",
    "    \n",
    "db= client['datasciencelearning']\n",
    "    \n",
    "Create collection:\n",
    "    \n",
    "coll_create=db['my_record']"
   ]
  },
  {
   "cell_type": "markdown",
   "id": "47e9cd6d-2712-469a-ad3c-51736bceedf8",
   "metadata": {},
   "source": [
    "Question 4: Using the database and the collection created in question number 3, write a code to insert one record,\n",
    "and insert many records. Use the find() and find_one() methods to print the inserted record."
   ]
  },
  {
   "cell_type": "markdown",
   "id": "2860e733-f43c-4265-8e52-c3d4175f783c",
   "metadata": {},
   "source": [
    "Answer: \n",
    "    \n",
    "Insert one record:\n",
    "\n",
    "data={\"Name\" : \"Pratichi\",\n",
    "      \"Class\" : \"Data science master\",\n",
    "      \"TimingS\" : \"flexi\"\n",
    "}\n",
    "coll_create.insert_one(data)\n",
    "\n",
    "Insert many records:\n",
    "\n",
    "docs = [\n",
    "      { name: \"cake\", healthy: false },\n",
    "      { name: \"lettuce\", healthy: true },\n",
    "      { name: \"donut\", healthy: false }\n",
    "    ]\n",
    "coll_create.insert_many(docs)\n",
    "\n",
    "find():\n",
    "\n",
    "for i in coll_create.find():\n",
    "    print(i)\n",
    "    \n",
    "Find_one():\n",
    "\n",
    "coll_create.find_one()"
   ]
  },
  {
   "cell_type": "markdown",
   "id": "4ec04f75-2409-403b-baba-f73a313b3975",
   "metadata": {},
   "source": [
    "Question 5: Explain how you can use the find() method to query the MongoDB database. Write a simple code to\n",
    "demonstrate this."
   ]
  },
  {
   "cell_type": "markdown",
   "id": "bdaa3dc2-285f-47e7-b599-b265bdc751e5",
   "metadata": {},
   "source": [
    "Answer:\n",
    "    \n",
    "In MongoDB, the find() method is used to query data from a collection. It allows you to retrieve documents from the collection that match a specified criteria.\n",
    "\n",
    "Here's a simple explanation of how you can use the find() method:\n",
    "\n",
    "-Specify the collection from which you want to query data.\n",
    "-Pass a query document to the find() method to specify the criteria for matching documents.\n",
    "-Optionally, you can include additional parameters such as projection, sorting, and limiting to customize the query results.\n",
    "\n",
    "Example:\n",
    "for i in coll_create.find({'Name': 'Pratichi'}):\n",
    "    print(i)"
   ]
  },
  {
   "cell_type": "markdown",
   "id": "2f9cf99e-b682-4b41-80b9-9f647e0abfb1",
   "metadata": {},
   "source": [
    "Question 5: Explain the sort() method. Give an example to demonstrate sorting in MongoDB."
   ]
  },
  {
   "cell_type": "markdown",
   "id": "07d10459-b4c1-4578-b2d2-b3dfd9f1af75",
   "metadata": {},
   "source": [
    "Answer:\n",
    "\n",
    "n MongoDB, the sort() method is used to sort the results of a query in ascending or descending order based on one or more fields. The sort() method takes a sort specifier document that specifies the fields to sort by and the sort order (ascending or descending) for each field.\n",
    "\n",
    "Here's an explanation of how the sort() method works:\n",
    "\n",
    "Specify the field(s) by which you want to sort the documents.\n",
    "Optionally, specify the sort order for each field. The sort order can be specified using the 1 for ascending order and -1 for descending order.\n",
    "\n",
    "example: \n",
    "sort_specifier = [(\"grade\", -1)]  # Sort by the 'grade' field in descending order (-1)\n",
    "\n",
    "# Perform the find operation with sorting\n",
    "cursor = collection.find(query).sort(sort_specifier)\n",
    "\n",
    "# Iterate over the cursor to access the sorted documents\n",
    "for document in cursor:\n",
    "    print(document)"
   ]
  },
  {
   "cell_type": "markdown",
   "id": "21de4c5d-68a8-4d29-b6ca-673e0ead311a",
   "metadata": {},
   "source": [
    "Question 7: Explain why delete_one(), delete_many(), and drop() is used."
   ]
  },
  {
   "cell_type": "markdown",
   "id": "f433ae11-3f42-4b7c-b29d-b97e64d65d90",
   "metadata": {},
   "source": [
    "Answer:\n",
    "\n",
    "In MongoDB, the delete_one(), delete_many(), and drop() methods are used to remove documents or collections from a database. Each of these methods serves a specific purpose:\n",
    "\n",
    "delete_one(): This method is used to delete a single document that matches a specified filter. It removes the first document that matches the filter criteria.\n",
    "\n",
    "Example: collection.delete_one({\"name\": \"Pratichi\"})\n",
    "\n",
    "\n",
    "This will delete the first document with the name \"John\" from the collection.\n",
    "\n",
    "delete_many(): This method is used to delete multiple documents that match a specified filter. It removes all documents that match the filter criteria.\n",
    "\n",
    "Example: collection.delete_many({\"age\": {\"$lt\": 18}})\n",
    "\n",
    "This will delete all documents where the age is less than 18 from the collection.\n",
    "\n",
    "drop(): This method is used to drop (delete) an entire collection from the database.\n",
    " Example:\n",
    " collection.drop()\n"
   ]
  },
  {
   "cell_type": "code",
   "execution_count": null,
   "id": "ab9183b0-b987-434f-879a-2f1263eb01a8",
   "metadata": {},
   "outputs": [],
   "source": []
  }
 ],
 "metadata": {
  "kernelspec": {
   "display_name": "Python 3 (ipykernel)",
   "language": "python",
   "name": "python3"
  },
  "language_info": {
   "codemirror_mode": {
    "name": "ipython",
    "version": 3
   },
   "file_extension": ".py",
   "mimetype": "text/x-python",
   "name": "python",
   "nbconvert_exporter": "python",
   "pygments_lexer": "ipython3",
   "version": "3.10.8"
  }
 },
 "nbformat": 4,
 "nbformat_minor": 5
}
