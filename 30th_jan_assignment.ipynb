{
 "cells": [
  {
   "cell_type": "markdown",
   "id": "4a5813ac-96e8-41dc-a163-451486ced053",
   "metadata": {},
   "source": [
    "Answer of Question 1:-"
   ]
  },
  {
   "cell_type": "code",
   "execution_count": 1,
   "id": "5775338c-fdd3-4249-a890-56103a3ee67e",
   "metadata": {},
   "outputs": [
    {
     "name": "stdin",
     "output_type": "stream",
     "text": [
      "Enter the percentage 89\n"
     ]
    },
    {
     "name": "stdout",
     "output_type": "stream",
     "text": [
      "Your grade is: B\n"
     ]
    }
   ],
   "source": [
    "percentage = float(input(\"Enter the percentage\"))\n",
    "              \n",
    "if percentage > 90:\n",
    "              Grade = \"A\"\n",
    "elif percentage >80 and percentage <= 90:\n",
    "              Grade = \"B\"\n",
    "elif percentage >=60 and percentage <= 80:\n",
    "              Grade = \"C\"\n",
    "elif percentage <60:\n",
    "              Grade = \"D\"\n",
    "        \n",
    "print(f\"Your grade is: {Grade}\")"
   ]
  },
  {
   "cell_type": "markdown",
   "id": "483f7545-42f3-4e95-a2c2-c050d5a65c1d",
   "metadata": {},
   "source": [
    "Answer of Question 2:-"
   ]
  },
  {
   "cell_type": "code",
   "execution_count": 2,
   "id": "dcd437e3-7fc3-465a-9c88-3cf61a545ac4",
   "metadata": {},
   "outputs": [
    {
     "name": "stdin",
     "output_type": "stream",
     "text": [
      "Enter the cost price of the bike:  80000\n"
     ]
    },
    {
     "name": "stdout",
     "output_type": "stream",
     "text": [
      "road tax to be paid: Rs8000.00\n"
     ]
    }
   ],
   "source": [
    "cost_price = float(input(\"Enter the cost price of the bike: \"))\n",
    "tax_rates={\n",
    "     50000: 0.05,    \n",
    "    100000: 0.10,\n",
    "}\n",
    "default_taxRate=0.15    # >100000\n",
    "Road_tax=0.0\n",
    "\n",
    "for price, rate in tax_rates.items():\n",
    "    if cost_price <= price:\n",
    "        road_tax = cost_price * rate\n",
    "        break\n",
    "else:\n",
    "    # If the cost price is greater than the highest defined price,\n",
    "    # use the default tax rate\n",
    "    road_tax = cost_price * default_tax_rate\n",
    "    \n",
    "print(f\"road tax to be paid: Rs{road_tax:.2f}\")\n"
   ]
  },
  {
   "cell_type": "markdown",
   "id": "8c5586fa-e223-47e8-9c0c-6035cb4f23cb",
   "metadata": {},
   "source": [
    "Answer of Question 3:-"
   ]
  },
  {
   "cell_type": "code",
   "execution_count": 7,
   "id": "5393feb1-ea52-43c0-a3ca-11edbb489be5",
   "metadata": {},
   "outputs": [
    {
     "name": "stdin",
     "output_type": "stream",
     "text": [
      "Enter city name Delhi\n"
     ]
    },
    {
     "name": "stdout",
     "output_type": "stream",
     "text": [
      "Red Fort\n"
     ]
    }
   ],
   "source": [
    "city_name=input(\"Enter city name\")\n",
    "\n",
    "if city_name == \"Delhi\":\n",
    "    print(\"Red Fort\")\n",
    "elif city_name ==\"Agra\":\n",
    "    print(\"Taj mahal\")\n",
    "elif city_name == \"Jaipur\":\n",
    "    print(\"jal mahal\")\n",
    "else:\n",
    "    print(\"Enter correct city\")"
   ]
  },
  {
   "cell_type": "markdown",
   "id": "197fb883-344d-4999-ada4-255abe5dae8e",
   "metadata": {},
   "source": [
    "Answer of Question 4:-"
   ]
  },
  {
   "cell_type": "code",
   "execution_count": 10,
   "id": "97faf677-a72b-42be-bcac-874f499ca5dc",
   "metadata": {},
   "outputs": [
    {
     "name": "stdin",
     "output_type": "stream",
     "text": [
      "Enter a number: 8767\n"
     ]
    },
    {
     "name": "stdout",
     "output_type": "stream",
     "text": [
      "the Number can be devided by 3, 7 times\n"
     ]
    }
   ],
   "source": [
    "number=int(input(\"Enter a number:\"))\n",
    "count=0\n",
    "while number > 10:\n",
    "    number = number/3\n",
    "    count=count+1\n",
    "    \n",
    "print(f\"the Number can be devided by 3, {count} times\")"
   ]
  },
  {
   "cell_type": "markdown",
   "id": "5ea49aff-e8cc-4f0c-862d-c21acf8c17e3",
   "metadata": {},
   "source": [
    "Answer of Question 5:-"
   ]
  },
  {
   "cell_type": "markdown",
   "id": "8caca802-b5bc-4a4a-b70e-3959ab183c6d",
   "metadata": {},
   "source": [
    "A while loop in Python is used to repeatedly execute a block of code as long as a specified condition is True. It's a fundamental control flow construct that's commonly used when you want to perform an action repeatedly until a certain condition is met.\n",
    "\n",
    "Why Use While Loops:\n",
    "\n",
    "Repetition: While loops are used when you need to repeat an action or a set of actions a certain number of times, often when the exact number of repetitions is not known in advance.\n",
    "\n",
    "Dynamic Condition: While loops are ideal for situations where the exit condition depends on some dynamic factor, and you can't predict in advance when the loop should stop.\n",
    "\n",
    "Continuous Input: When you want to keep accepting user input or performing an action until a specific condition is met, while loops are a good choice. For example, taking user input until they provide a valid input.\n",
    "\n",
    "When to Use While Loops:\n",
    "\n",
    "Iterating Through Unknown Length Data: When you need to iterate through a data structure like a list, tuple, or stream of data, and you don't know in advance how many elements there are.\n",
    "\n",
    "Interactive Programs: In interactive programs, while loops can be used to keep the program running and accepting input or providing output as long as the user desires.\n",
    "\n",
    "Monitoring Conditions: When you want to monitor conditions continuously and take actions based on those conditions. For example, continuously checking for sensor readings and responding to specific values.\n",
    "\n",
    "Infinite Loops with Break Statements: You can use a while loop as an infinite loop and exit it using a break statement when a specific condition is met. This can be helpful for implementing complex control flow or waiting for external events.\n",
    "\n",
    "Simulation and Games: In game development and simulations, while loops are used to update the game state continuously until a specific condition (like winning or losing) is reached."
   ]
  },
  {
   "cell_type": "markdown",
   "id": "da3b66ed-eb54-4d70-b745-6894f6197f5c",
   "metadata": {},
   "source": [
    "Answer of Question 6:-\n"
   ]
  },
  {
   "cell_type": "markdown",
   "id": "2a158c4e-ae47-42fe-8dae-b666a3c2e2d3",
   "metadata": {},
   "source": [
    "Pattern1:"
   ]
  },
  {
   "cell_type": "code",
   "execution_count": 14,
   "id": "a8ffd86b-440d-4ac2-a40f-54ddcad5a496",
   "metadata": {},
   "outputs": [
    {
     "name": "stdout",
     "output_type": "stream",
     "text": [
      "* \n",
      "* * \n",
      "* * * \n",
      "* * * * \n",
      "* * * * * \n"
     ]
    }
   ],
   "source": [
    "n = 5 \n",
    "i = 1\n",
    "\n",
    "while i <= n:\n",
    "    j = 1\n",
    "    while j <= i:\n",
    "        print(\"*\", end=\" \")\n",
    "        j += 1\n",
    "    print()\n",
    "    i += 1"
   ]
  },
  {
   "cell_type": "markdown",
   "id": "44b815b7-2138-4d54-ab57-b2bccefe8615",
   "metadata": {},
   "source": [
    "Pattern 2:-"
   ]
  },
  {
   "cell_type": "code",
   "execution_count": 13,
   "id": "004c56f2-7ca4-4ad8-9f60-75479d5d4755",
   "metadata": {},
   "outputs": [
    {
     "name": "stdout",
     "output_type": "stream",
     "text": [
      "* * * * * \n",
      "* * * * * \n",
      "* * * * * \n",
      "* * * * * \n",
      "* * * * * \n"
     ]
    }
   ],
   "source": [
    "n = 5 \n",
    "i = 1\n",
    "\n",
    "while i <= n:\n",
    "    j = 1\n",
    "    while j <= n:\n",
    "        print(\"*\", end=\" \")\n",
    "        j += 1\n",
    "    print()\n",
    "    i += 1"
   ]
  },
  {
   "cell_type": "markdown",
   "id": "d1a9abdc-5f12-4659-8fa0-1d4ab29abb20",
   "metadata": {},
   "source": [
    "Pattern 3:-"
   ]
  },
  {
   "cell_type": "code",
   "execution_count": 16,
   "id": "2104fe54-cb53-45cf-ac09-9c26da90e105",
   "metadata": {},
   "outputs": [
    {
     "name": "stdout",
     "output_type": "stream",
     "text": [
      "1 \n",
      "1 2 \n",
      "1 2 3 \n",
      "1 2 3 4 \n",
      "1 2 3 4 5 \n"
     ]
    }
   ],
   "source": [
    "n = 5\n",
    "i = 1\n",
    "\n",
    "while i <= n:\n",
    "    j = 1\n",
    "    while j <= i:\n",
    "        print(j, end=\" \")\n",
    "        j += 1\n",
    "    print()\n",
    "    i += 1"
   ]
  },
  {
   "cell_type": "markdown",
   "id": "f60e61d3-ed9a-48ae-a8a2-9758915f7ba3",
   "metadata": {},
   "source": [
    "Answer of Question 7 and 8:-"
   ]
  },
  {
   "cell_type": "code",
   "execution_count": 17,
   "id": "38992afa-fc22-4bf9-908c-949cbe650a78",
   "metadata": {},
   "outputs": [
    {
     "name": "stdout",
     "output_type": "stream",
     "text": [
      "10\n",
      "9\n",
      "8\n",
      "7\n",
      "6\n",
      "5\n",
      "4\n",
      "3\n",
      "2\n",
      "1\n"
     ]
    }
   ],
   "source": [
    "number = 10\n",
    "\n",
    "while number >= 1:\n",
    "    print(number)\n",
    "    number -= 1"
   ]
  },
  {
   "cell_type": "code",
   "execution_count": null,
   "id": "266a816a-298d-4318-96a4-08902d2695d1",
   "metadata": {},
   "outputs": [],
   "source": []
  }
 ],
 "metadata": {
  "kernelspec": {
   "display_name": "Python 3 (ipykernel)",
   "language": "python",
   "name": "python3"
  },
  "language_info": {
   "codemirror_mode": {
    "name": "ipython",
    "version": 3
   },
   "file_extension": ".py",
   "mimetype": "text/x-python",
   "name": "python",
   "nbconvert_exporter": "python",
   "pygments_lexer": "ipython3",
   "version": "3.10.8"
  }
 },
 "nbformat": 4,
 "nbformat_minor": 5
}
