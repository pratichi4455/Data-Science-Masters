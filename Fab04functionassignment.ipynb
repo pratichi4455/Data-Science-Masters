{
 "cells": [
  {
   "cell_type": "markdown",
   "id": "1be11fa6-8929-4f37-81d2-cb739648af01",
   "metadata": {},
   "source": [
    "Answer of Question 1"
   ]
  },
  {
   "cell_type": "code",
   "execution_count": 1,
   "id": "f88b93b2-b9b6-4d6b-8b39-f0c1c4912b05",
   "metadata": {},
   "outputs": [],
   "source": [
    "data = [('Sachin Tendulkar', 34357), ('Ricky Ponting', 27483), ('Jack Kallis', 25534), ('Virat Kohli', 24936)]\n"
   ]
  },
  {
   "cell_type": "code",
   "execution_count": 2,
   "id": "c3207b1a-55e7-4464-b7a3-66eb416daefa",
   "metadata": {},
   "outputs": [
    {
     "name": "stdout",
     "output_type": "stream",
     "text": [
      "('Virat Kohli', 24936)\n",
      "('Jack Kallis', 25534)\n",
      "('Ricky Ponting', 27483)\n",
      "('Sachin Tendulkar', 34357)\n"
     ]
    }
   ],
   "source": [
    "sorted_data = sorted(data, key=lambda x: x[1])\n",
    "for item in sorted_data:\n",
    "    print(item)"
   ]
  },
  {
   "cell_type": "markdown",
   "id": "945d00f0-c74a-4011-9c16-143343f59d83",
   "metadata": {},
   "source": [
    "Answer of question 2"
   ]
  },
  {
   "cell_type": "markdown",
   "id": "b51b1730-d0aa-4adf-b29e-823265b1d322",
   "metadata": {},
   "source": [
    "With Lambda function"
   ]
  },
  {
   "cell_type": "code",
   "execution_count": 3,
   "id": "c46b1980-2434-4407-891a-765fb31e2c81",
   "metadata": {},
   "outputs": [
    {
     "name": "stdout",
     "output_type": "stream",
     "text": [
      "[1, 4, 9, 16, 25, 36, 49, 64, 81, 100]\n"
     ]
    }
   ],
   "source": [
    "numbers = [1, 2, 3, 4, 5, 6, 7, 8, 9, 10]\n",
    "\n",
    "squares = [(lambda x: x**2)(num) for num in numbers]\n",
    "\n",
    "print(squares)"
   ]
  },
  {
   "cell_type": "markdown",
   "id": "d8a48c5b-6ac9-4b3a-b19b-013aaa7ea98f",
   "metadata": {},
   "source": [
    "With Map function"
   ]
  },
  {
   "cell_type": "code",
   "execution_count": 4,
   "id": "2dadd523-fabc-4c2b-83ab-27dd8b4e7d1c",
   "metadata": {},
   "outputs": [],
   "source": [
    "numbers = [1, 2, 3, 4, 5, 6, 7, 8, 9, 10]"
   ]
  },
  {
   "cell_type": "code",
   "execution_count": 5,
   "id": "6adaaba0-0e2d-44a0-9f9d-13d7eca2f526",
   "metadata": {},
   "outputs": [
    {
     "name": "stdout",
     "output_type": "stream",
     "text": [
      "[1, 4, 9, 16, 25, 36, 49, 64, 81, 100]\n"
     ]
    }
   ],
   "source": [
    "def square(x):\n",
    "    return x ** 2\n",
    "squares = list(map(square, numbers))\n",
    "\n",
    "print(squares)"
   ]
  },
  {
   "cell_type": "markdown",
   "id": "389f4ae9-af68-47e9-8c2d-95e2637a1306",
   "metadata": {},
   "source": [
    "Answer of question 3"
   ]
  },
  {
   "cell_type": "markdown",
   "id": "f6c1722e-dea4-42a8-afe7-9df3dd86ad1d",
   "metadata": {},
   "source": [
    "With Map function"
   ]
  },
  {
   "cell_type": "code",
   "execution_count": 6,
   "id": "06f66e0e-0fe8-44b5-8aa9-b54a64ff4b4e",
   "metadata": {},
   "outputs": [],
   "source": [
    "integers = [1, 2, 3, 4, 5, 6, 7, 8, 9, 10]"
   ]
  },
  {
   "cell_type": "code",
   "execution_count": 7,
   "id": "e5982931-fac8-4ef0-80bd-bba83df7bb02",
   "metadata": {},
   "outputs": [
    {
     "name": "stdout",
     "output_type": "stream",
     "text": [
      "('1', '2', '3', '4', '5', '6', '7', '8', '9', '10')\n"
     ]
    }
   ],
   "source": [
    "strings = tuple(map(str, integers))\n",
    "\n",
    "print(strings)"
   ]
  },
  {
   "cell_type": "markdown",
   "id": "3ce87835-1a54-4436-bf2c-3ae40c723dca",
   "metadata": {},
   "source": [
    "With Lambda function"
   ]
  },
  {
   "cell_type": "code",
   "execution_count": 8,
   "id": "44cf2abe-d207-480e-84f6-bd724327dcb2",
   "metadata": {},
   "outputs": [
    {
     "name": "stdout",
     "output_type": "stream",
     "text": [
      "('1', '2', '3', '4', '5', '6', '7', '8', '9', '10')\n"
     ]
    }
   ],
   "source": [
    "strings = tuple(map(lambda x: str(x), integers))\n",
    "\n",
    "print(strings)"
   ]
  },
  {
   "cell_type": "markdown",
   "id": "72ff6986-c315-4707-9f4e-e2bb6d59370f",
   "metadata": {},
   "source": [
    "Answer of Question 4"
   ]
  },
  {
   "cell_type": "code",
   "execution_count": 11,
   "id": "72bffa45-c4e7-4a4d-9289-d513f2403533",
   "metadata": {},
   "outputs": [
    {
     "name": "stdout",
     "output_type": "stream",
     "text": [
      "15511210043330985984000000\n"
     ]
    }
   ],
   "source": [
    "from functools import reduce\n",
    "\n",
    "numbers = list(range(1, 26))\n",
    "\n",
    "def multiply(x, y):\n",
    "    return x * y\n",
    "\n",
    "product = reduce(multiply, numbers)\n",
    "\n",
    "print(product)"
   ]
  },
  {
   "cell_type": "markdown",
   "id": "73470d62-197f-4ccf-bd75-8f7caa25f93e",
   "metadata": {},
   "source": [
    "Answer of Question 5"
   ]
  },
  {
   "cell_type": "code",
   "execution_count": 12,
   "id": "8f46e599-27f7-44a2-8bf6-123f258d54ff",
   "metadata": {},
   "outputs": [
    {
     "name": "stdout",
     "output_type": "stream",
     "text": [
      "[6, 60, 90, 120]\n"
     ]
    }
   ],
   "source": [
    "numbers = [2, 3, 6, 9, 27, 60, 90, 120, 55, 46]\n",
    "\n",
    "def is_divisible_by_2_and_3(x):\n",
    "    return x % 2 == 0 and x % 3 == 0\n",
    "\n",
    "filtered_numbers = list(filter(is_divisible_by_2_and_3, numbers))\n",
    "\n",
    "print(filtered_numbers)"
   ]
  },
  {
   "cell_type": "markdown",
   "id": "a4907879-2cba-420a-a72f-3db74c1a9019",
   "metadata": {},
   "source": [
    "Answer of Question 6"
   ]
  },
  {
   "cell_type": "code",
   "execution_count": 13,
   "id": "e152a54c-6316-41df-afce-809ff5cd1ae7",
   "metadata": {},
   "outputs": [
    {
     "ename": "SyntaxError",
     "evalue": "incomplete input (555030653.py, line 4)",
     "output_type": "error",
     "traceback": [
      "\u001b[0;36m  Cell \u001b[0;32mIn[13], line 4\u001b[0;36m\u001b[0m\n\u001b[0;31m    palindromes = list(filter(is_palind\u001b[0m\n\u001b[0m                                       ^\u001b[0m\n\u001b[0;31mSyntaxError\u001b[0m\u001b[0;31m:\u001b[0m incomplete input\n"
     ]
    }
   ],
   "source": [
    "strings = ['python', 'php', 'aba', 'radar', 'level']\n",
    "\n",
    "is_palindrome = lambda s: s == s[::-1]\n",
    "palindromes = list(filter(is_palind"
   ]
  },
  {
   "cell_type": "code",
   "execution_count": null,
   "id": "b3a5c27e-b454-45a5-ac65-50eab9fb1223",
   "metadata": {},
   "outputs": [],
   "source": []
  }
 ],
 "metadata": {
  "kernelspec": {
   "display_name": "Python 3 (ipykernel)",
   "language": "python",
   "name": "python3"
  },
  "language_info": {
   "codemirror_mode": {
    "name": "ipython",
    "version": 3
   },
   "file_extension": ".py",
   "mimetype": "text/x-python",
   "name": "python",
   "nbconvert_exporter": "python",
   "pygments_lexer": "ipython3",
   "version": "3.10.8"
  }
 },
 "nbformat": 4,
 "nbformat_minor": 5
}
