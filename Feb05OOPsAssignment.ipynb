{
 "cells": [
  {
   "cell_type": "markdown",
   "id": "a2e6d3d3-439d-4272-b979-35f8ab3fccb0",
   "metadata": {},
   "source": [
    "Answer of Question 1"
   ]
  },
  {
   "cell_type": "code",
   "execution_count": 1,
   "id": "c59fb1e6-bdca-4d39-b0f7-58441d77db5e",
   "metadata": {},
   "outputs": [
    {
     "name": "stdout",
     "output_type": "stream",
     "text": [
      "Car: Toyota Camry\n",
      "Car: Honda Civic\n"
     ]
    }
   ],
   "source": [
    "class Car:\n",
    "    def __init__(self, brand, model):\n",
    "        self.brand = brand  \n",
    "        self.model = model\n",
    "        \n",
    "    def display_info(self):\n",
    "        print(f\"Car: {self.brand} {self.model}\")\n",
    "\n",
    "car1 = Car(\"Toyota\", \"Camry\")\n",
    "car2 = Car(\"Honda\", \"Civic\")\n",
    "\n",
    "car1.display_info()\n",
    "car2.display_info()\n"
   ]
  },
  {
   "cell_type": "markdown",
   "id": "e82882d5-1029-45f3-885d-897c47a92548",
   "metadata": {},
   "source": [
    "Answer of Question 2"
   ]
  },
  {
   "cell_type": "code",
   "execution_count": 3,
   "id": "2a6016c7-c3c1-4694-a737-9d9720e965f0",
   "metadata": {},
   "outputs": [
    {
     "name": "stdout",
     "output_type": "stream",
     "text": [
      "Hello, my name is Alice and I am 30 years old.\n",
      "Hello, my name is Bob and I am 25 years old.\n"
     ]
    }
   ],
   "source": [
    "class Person:\n",
    "    def __init__(self, name, age):\n",
    "        self.name = name\n",
    "        self.age = age\n",
    "\n",
    "    def introduce(self):\n",
    "        print(f\"Hello, my name is {self.name} and I am {self.age} years old.\")\n",
    "\n",
    "person1 = Person(\"Alice\", 30)\n",
    "person2 = Person(\"Bob\", 25)\n",
    "\n",
    "person1.introduce()\n",
    "person2.introduce()"
   ]
  },
  {
   "cell_type": "markdown",
   "id": "9babacf1-367b-40a1-a1e6-e9e9691a3db0",
   "metadata": {},
   "source": [
    "Answer od Question 3"
   ]
  },
  {
   "cell_type": "code",
   "execution_count": 4,
   "id": "6abec480-1099-4163-81bc-c3abc89b1755",
   "metadata": {},
   "outputs": [
    {
     "name": "stdout",
     "output_type": "stream",
     "text": [
      "Buddy (Golden Retriever) barks!\n",
      "Max (Labrador) barks!\n"
     ]
    }
   ],
   "source": [
    "class Dog:\n",
    "    def __init__(self, name, breed):\n",
    "        self.name = name \n",
    "        self.breed = breed \n",
    "\n",
    "    def bark(self):\n",
    "        print(f\"{self.name} ({self.breed}) barks!\")\n",
    "\n",
    "dog1 = Dog(\"Buddy\", \"Golden Retriever\")\n",
    "dog2 = Dog(\"Max\", \"Labrador\")\n",
    "\n",
    "dog1.bark()\n",
    "dog2.bark()"
   ]
  },
  {
   "cell_type": "markdown",
   "id": "edd7ee97-d800-49cf-9bdd-af14bba44593",
   "metadata": {},
   "source": [
    "Answer od Question 5"
   ]
  },
  {
   "cell_type": "markdown",
   "id": "e21aed7a-26b8-4bf1-9427-a1f15cba9057",
   "metadata": {},
   "source": [
    "Single level inheritance:-"
   ]
  },
  {
   "cell_type": "code",
   "execution_count": 5,
   "id": "099d7b51-4950-4a2e-bc0e-53622bda18c1",
   "metadata": {},
   "outputs": [
    {
     "name": "stdout",
     "output_type": "stream",
     "text": [
      "Toyota Camry is driving.\n",
      "Toyota Camry is honking. Beep beep!\n"
     ]
    }
   ],
   "source": [
    "class Vehicle:\n",
    "    def __init__(self, make, model):\n",
    "        self.make = make\n",
    "        self.model = model\n",
    "    \n",
    "    def drive(self):\n",
    "        print(f\"{self.make} {self.model} is driving.\")\n",
    "\n",
    "class Car(Vehicle):\n",
    "    def __init__(self, make, model, fuel_type):\n",
    "        super().__init__(make, model)\n",
    "        self.fuel_type = fuel_type\n",
    "    \n",
    "    def honk(self):\n",
    "        print(f\"{self.make} {self.model} is honking. Beep beep!\")\n",
    "\n",
    "my_car = Car(\"Toyota\", \"Camry\", \"Gasoline\")\n",
    "my_car.drive()\n",
    "my_car.honk()  "
   ]
  },
  {
   "cell_type": "markdown",
   "id": "29bd5962-7d03-4fc3-8cfb-adf021e611a5",
   "metadata": {},
   "source": [
    "Multiple Inheritance"
   ]
  },
  {
   "cell_type": "code",
   "execution_count": 6,
   "id": "d063c962-594e-45d9-bc04-5298cdbb06ef",
   "metadata": {},
   "outputs": [
    {
     "name": "stdout",
     "output_type": "stream",
     "text": [
      "Method 1 from Parent1\n",
      "Method 2 from Parent2\n",
      "Method 3 from Child\n"
     ]
    }
   ],
   "source": [
    "class Parent1:\n",
    "    def method1(self):\n",
    "        print(\"Method 1 from Parent1\")\n",
    "\n",
    "class Parent2:\n",
    "    def method2(self):\n",
    "        print(\"Method 2 from Parent2\")\n",
    "\n",
    "class Child(Parent1, Parent2):\n",
    "    def method3(self):\n",
    "        print(\"Method 3 from Child\")\n",
    "\n",
    "my_child = Child()\n",
    "my_child.method1() \n",
    "my_child.method2()\n",
    "my_child.method3()"
   ]
  },
  {
   "cell_type": "markdown",
   "id": "1c67f892-4160-4544-af1d-e8a641b01538",
   "metadata": {},
   "source": [
    "MultiLevel Inheritance"
   ]
  },
  {
   "cell_type": "code",
   "execution_count": 7,
   "id": "e886bd78-522f-47c5-91fa-d65f414e38c9",
   "metadata": {},
   "outputs": [
    {
     "name": "stdout",
     "output_type": "stream",
     "text": [
      "Method from Grandparent\n",
      "Method from Parent\n",
      "Method from Child\n"
     ]
    }
   ],
   "source": [
    "class Grandparent:\n",
    "    def grand_method(self):\n",
    "        print(\"Method from Grandparent\")\n",
    "\n",
    "class Parent(Grandparent):\n",
    "    def parent_method(self):\n",
    "        print(\"Method from Parent\")\n",
    "\n",
    "class Child(Parent):\n",
    "    def child_method(self):\n",
    "        print(\"Method from Child\")\n",
    "\n",
    "my_child = Child()\n",
    "my_child.grand_method() \n",
    "my_child.parent_method() \n",
    "my_child.child_method()"
   ]
  },
  {
   "cell_type": "markdown",
   "id": "d1dedd9e-0c3d-43c1-9c40-b7c12bc796e4",
   "metadata": {},
   "source": [
    "Hierarchical Inheritance"
   ]
  },
  {
   "cell_type": "code",
   "execution_count": 8,
   "id": "3325c08d-4559-40cf-80f5-4075b53c7ab0",
   "metadata": {},
   "outputs": [
    {
     "name": "stdout",
     "output_type": "stream",
     "text": [
      "Dog barks\n",
      "Cat meows\n"
     ]
    }
   ],
   "source": [
    "class Animal:\n",
    "    def sound(self):\n",
    "        print(\"Animal makes a sound\")\n",
    "\n",
    "class Dog(Animal):\n",
    "    def sound(self):\n",
    "        print(\"Dog barks\")\n",
    "\n",
    "class Cat(Animal):\n",
    "    def sound(self):\n",
    "        print(\"Cat meows\")\n",
    "\n",
    "my_dog = Dog()\n",
    "my_cat = Cat()\n",
    "my_dog.sound() \n",
    "my_cat.sound() "
   ]
  },
  {
   "cell_type": "code",
   "execution_count": null,
   "id": "f1dc2878-7b8b-4ce8-a32d-d44cfa874bd1",
   "metadata": {},
   "outputs": [],
   "source": []
  }
 ],
 "metadata": {
  "kernelspec": {
   "display_name": "Python 3 (ipykernel)",
   "language": "python",
   "name": "python3"
  },
  "language_info": {
   "codemirror_mode": {
    "name": "ipython",
    "version": 3
   },
   "file_extension": ".py",
   "mimetype": "text/x-python",
   "name": "python",
   "nbconvert_exporter": "python",
   "pygments_lexer": "ipython3",
   "version": "3.10.8"
  }
 },
 "nbformat": 4,
 "nbformat_minor": 5
}
