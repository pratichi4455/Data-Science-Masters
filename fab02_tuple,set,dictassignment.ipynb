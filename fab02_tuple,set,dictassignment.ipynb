{
 "cells": [
  {
   "cell_type": "markdown",
   "id": "1ecfed94-5464-4bfc-89c8-96f21c2dc964",
   "metadata": {},
   "source": [
    "Answer of Question 2"
   ]
  },
  {
   "cell_type": "code",
   "execution_count": 7,
   "id": "6e447732-fb07-4541-a549-38f9f0d79b92",
   "metadata": {},
   "outputs": [],
   "source": [
    "answer2=(10, 20, 30, 20, 40, 50, 20)"
   ]
  },
  {
   "cell_type": "code",
   "execution_count": 8,
   "id": "220862d7-ddf4-49e0-83bf-14396051859e",
   "metadata": {},
   "outputs": [
    {
     "data": {
      "text/plain": [
       "(10, 20, 30, 20, 40, 50, 20)"
      ]
     },
     "execution_count": 8,
     "metadata": {},
     "output_type": "execute_result"
    }
   ],
   "source": [
    "answer2"
   ]
  },
  {
   "cell_type": "code",
   "execution_count": 9,
   "id": "9d67e2ff-2e45-4225-9a98-f524824aa21b",
   "metadata": {},
   "outputs": [
    {
     "data": {
      "text/plain": [
       "1"
      ]
     },
     "execution_count": 9,
     "metadata": {},
     "output_type": "execute_result"
    }
   ],
   "source": [
    "answer2.index(20)"
   ]
  },
  {
   "cell_type": "code",
   "execution_count": 10,
   "id": "b0d86ed5-52c0-4d86-92e7-07326c4d2dfe",
   "metadata": {},
   "outputs": [
    {
     "data": {
      "text/plain": [
       "3"
      ]
     },
     "execution_count": 10,
     "metadata": {},
     "output_type": "execute_result"
    }
   ],
   "source": [
    "answer2.count(20)"
   ]
  },
  {
   "cell_type": "markdown",
   "id": "755ea668-ab7b-4b4f-b389-fbc40fbb58e4",
   "metadata": {},
   "source": [
    "Answer of Question 3"
   ]
  },
  {
   "cell_type": "code",
   "execution_count": 17,
   "id": "1f19f642-a2f3-423c-ad8e-93e07fe4b44d",
   "metadata": {},
   "outputs": [],
   "source": [
    "answer3_list = [1, 1, 1, 2, 1, 3, 1, 4, 2, 1, 2, 2, 2, 3, 2, 4, 3, 1, 3, 2, 3, 3, 3, 4, 4, 1, 4, 2, 4, 3, 4, 4]\n"
   ]
  },
  {
   "cell_type": "code",
   "execution_count": 18,
   "id": "0eb436de-1602-4aad-abff-356f708f985e",
   "metadata": {},
   "outputs": [
    {
     "data": {
      "text/plain": [
       "[1,\n",
       " 1,\n",
       " 1,\n",
       " 2,\n",
       " 1,\n",
       " 3,\n",
       " 1,\n",
       " 4,\n",
       " 2,\n",
       " 1,\n",
       " 2,\n",
       " 2,\n",
       " 2,\n",
       " 3,\n",
       " 2,\n",
       " 4,\n",
       " 3,\n",
       " 1,\n",
       " 3,\n",
       " 2,\n",
       " 3,\n",
       " 3,\n",
       " 3,\n",
       " 4,\n",
       " 4,\n",
       " 1,\n",
       " 4,\n",
       " 2,\n",
       " 4,\n",
       " 3,\n",
       " 4,\n",
       " 4]"
      ]
     },
     "execution_count": 18,
     "metadata": {},
     "output_type": "execute_result"
    }
   ],
   "source": [
    "answer3_list"
   ]
  },
  {
   "cell_type": "code",
   "execution_count": 19,
   "id": "23118ae7-7a58-42eb-b9fe-7f7c9be00f91",
   "metadata": {},
   "outputs": [],
   "source": [
    "answer3_set = set(answer3_list)"
   ]
  },
  {
   "cell_type": "code",
   "execution_count": 20,
   "id": "dd2cca0a-80a7-4676-bdb5-1d056b7a1710",
   "metadata": {},
   "outputs": [
    {
     "data": {
      "text/plain": [
       "{1, 2, 3, 4}"
      ]
     },
     "execution_count": 20,
     "metadata": {},
     "output_type": "execute_result"
    }
   ],
   "source": [
    "answer3_set"
   ]
  },
  {
   "cell_type": "code",
   "execution_count": 21,
   "id": "802a4cd6-228b-41a4-91f6-90d717a898da",
   "metadata": {},
   "outputs": [],
   "source": [
    "output_list =list(answer3_set)"
   ]
  },
  {
   "cell_type": "code",
   "execution_count": 22,
   "id": "142835fb-79c1-4504-ad04-4fb91a9178ec",
   "metadata": {},
   "outputs": [
    {
     "data": {
      "text/plain": [
       "[1, 2, 3, 4]"
      ]
     },
     "execution_count": 22,
     "metadata": {},
     "output_type": "execute_result"
    }
   ],
   "source": [
    "output_list"
   ]
  },
  {
   "cell_type": "markdown",
   "id": "0ab53f92-5203-4cf7-b8ac-dcab9489020d",
   "metadata": {},
   "source": [
    "Answer of Question 4"
   ]
  },
  {
   "cell_type": "markdown",
   "id": "1b6dcb5f-3ddf-46bd-b140-39f1841f06c2",
   "metadata": {},
   "source": [
    "Exampple 4 Union Example"
   ]
  },
  {
   "cell_type": "code",
   "execution_count": 23,
   "id": "9bf008e0-3786-42ec-aa9c-c18eac24bab7",
   "metadata": {},
   "outputs": [],
   "source": [
    "answer4_set1 ={1, 2, 3}"
   ]
  },
  {
   "cell_type": "code",
   "execution_count": 24,
   "id": "4e8b189b-33cf-487d-9e8d-42f0ff14ca8a",
   "metadata": {},
   "outputs": [],
   "source": [
    "answer4_set2 ={3,4,5,6}"
   ]
  },
  {
   "cell_type": "code",
   "execution_count": 25,
   "id": "13ff77a6-34c9-43ff-9f6d-04f5b83c9cd8",
   "metadata": {},
   "outputs": [],
   "source": [
    "output = answer4_set1.union(answer4_set2)"
   ]
  },
  {
   "cell_type": "code",
   "execution_count": 26,
   "id": "42756a95-1570-4c71-9f56-0a7737db2454",
   "metadata": {},
   "outputs": [
    {
     "data": {
      "text/plain": [
       "{1, 2, 3, 4, 5, 6}"
      ]
     },
     "execution_count": 26,
     "metadata": {},
     "output_type": "execute_result"
    }
   ],
   "source": [
    "output"
   ]
  },
  {
   "cell_type": "markdown",
   "id": "4cef8b69-d20e-4915-86c3-51a2fdd879ce",
   "metadata": {},
   "source": [
    "Answer 4 Update() example"
   ]
  },
  {
   "cell_type": "code",
   "execution_count": 28,
   "id": "71ad2c27-fc52-4bc2-a718-9cf057449ffd",
   "metadata": {},
   "outputs": [],
   "source": [
    "answer4_set3={1,2,3}"
   ]
  },
  {
   "cell_type": "code",
   "execution_count": 29,
   "id": "756e317b-5fda-45f8-b461-73e770a28398",
   "metadata": {},
   "outputs": [],
   "source": [
    "answer4_set4={3,4,5,6}"
   ]
  },
  {
   "cell_type": "code",
   "execution_count": 33,
   "id": "c2fbff63-3b12-431b-9639-0aaf6cedc029",
   "metadata": {},
   "outputs": [],
   "source": [
    "answer4_set3.update(answer4_set4)"
   ]
  },
  {
   "cell_type": "code",
   "execution_count": 34,
   "id": "7449b369-80e4-440c-a530-50d52c1151be",
   "metadata": {},
   "outputs": [
    {
     "data": {
      "text/plain": [
       "{1, 2, 3, 4, 5, 6}"
      ]
     },
     "execution_count": 34,
     "metadata": {},
     "output_type": "execute_result"
    }
   ],
   "source": [
    "answer4_set3"
   ]
  },
  {
   "cell_type": "markdown",
   "id": "6ce3900b-d581-4875-b2b5-98c7ca8e7727",
   "metadata": {},
   "source": [
    "Answer of Question 5"
   ]
  },
  {
   "cell_type": "code",
   "execution_count": 41,
   "id": "1bc6f8f0-949d-444c-bccd-d3a8729a31ea",
   "metadata": {},
   "outputs": [],
   "source": [
    "answer5_dict={\"name\":\"pratichi\", \"course\":\"Data science\",6787:\"abc\",(1,2,3):\"asdfasdf\", \"mentor_name\":(\"abc\",\"pqr\",\"xyz\"), \"subjects\":[\"Java\",\"Python\",\"MongoDB\"]}"
   ]
  },
  {
   "cell_type": "code",
   "execution_count": 42,
   "id": "fb25331c-2e10-4aed-8fe7-6b8c88594c99",
   "metadata": {},
   "outputs": [
    {
     "data": {
      "text/plain": [
       "{'name': 'pratichi',\n",
       " 'course': 'Data science',\n",
       " 6787: 'abc',\n",
       " (1, 2, 3): 'asdfasdf',\n",
       " 'mentor_name': ('abc', 'pqr', 'xyz'),\n",
       " 'subjects': ['Java', 'Python', 'MongoDB']}"
      ]
     },
     "execution_count": 42,
     "metadata": {},
     "output_type": "execute_result"
    }
   ],
   "source": [
    "answer5_dict"
   ]
  },
  {
   "cell_type": "code",
   "execution_count": 43,
   "id": "f9851de3-5471-4f27-882b-2736d105ff8c",
   "metadata": {},
   "outputs": [],
   "source": [
    "answer5_dict1={'employee_id': 123,\n",
    "    'name': 'abcabc',\n",
    "    'contact_info': {\n",
    "        'email': 'abcabce@email.com',\n",
    "        'phone': '0909090909',\n",
    "        'address': 'Jaipur, Rajasthan'\n",
    "    },\n",
    "    'department': 'HR'}"
   ]
  },
  {
   "cell_type": "code",
   "execution_count": 44,
   "id": "f1c16d22-004b-4db7-bc5a-2ee213a4a208",
   "metadata": {},
   "outputs": [
    {
     "data": {
      "text/plain": [
       "{'employee_id': 123,\n",
       " 'name': 'abcabc',\n",
       " 'contact_info': {'email': 'abcabce@email.com',\n",
       "  'phone': '0909090909',\n",
       "  'address': 'Jaipur, Rajasthan'},\n",
       " 'department': 'HR'}"
      ]
     },
     "execution_count": 44,
     "metadata": {},
     "output_type": "execute_result"
    }
   ],
   "source": [
    "answer5_dict1"
   ]
  },
  {
   "cell_type": "markdown",
   "id": "56fb6133-6232-422d-83bb-5877780fc600",
   "metadata": {},
   "source": [
    "Answer of question 6"
   ]
  },
  {
   "cell_type": "code",
   "execution_count": 47,
   "id": "7c3499ca-9ed8-47f2-987d-cd95faef7246",
   "metadata": {},
   "outputs": [],
   "source": [
    "dict1 = {'language' : 'Python', 'course': 'Data Science Masters'}"
   ]
  },
  {
   "cell_type": "code",
   "execution_count": 48,
   "id": "e7b7c24b-574e-45c9-9f9d-ba630720c6c8",
   "metadata": {},
   "outputs": [
    {
     "data": {
      "text/plain": [
       "{'language': 'Python', 'course': 'Data Science Masters'}"
      ]
     },
     "execution_count": 48,
     "metadata": {},
     "output_type": "execute_result"
    }
   ],
   "source": [
    "dict1"
   ]
  },
  {
   "cell_type": "code",
   "execution_count": 49,
   "id": "9da5a1d6-3a56-4d82-94ac-08ca9efb3779",
   "metadata": {},
   "outputs": [
    {
     "data": {
      "text/plain": [
       "['Python', 'Machine Learning', 'Deep Learning']"
      ]
     },
     "execution_count": 49,
     "metadata": {},
     "output_type": "execute_result"
    }
   ],
   "source": [
    "dict1.setdefault('topics', ['Python', 'Machine Learning', 'Deep Learning'])"
   ]
  },
  {
   "cell_type": "code",
   "execution_count": 50,
   "id": "df8cafa5-d3f4-479d-94ad-ebbfb6fb082b",
   "metadata": {},
   "outputs": [
    {
     "data": {
      "text/plain": [
       "{'language': 'Python',\n",
       " 'course': 'Data Science Masters',\n",
       " 'topics': ['Python', 'Machine Learning', 'Deep Learning']}"
      ]
     },
     "execution_count": 50,
     "metadata": {},
     "output_type": "execute_result"
    }
   ],
   "source": [
    "dict1"
   ]
  },
  {
   "cell_type": "markdown",
   "id": "dbcf3e3a-3a90-4f45-95e7-dc2a5716ffa7",
   "metadata": {},
   "source": [
    "Answer of Question 7"
   ]
  },
  {
   "cell_type": "code",
   "execution_count": 51,
   "id": "b6ce9ada-fed3-4a55-8a8e-c94e34b4b21d",
   "metadata": {},
   "outputs": [],
   "source": [
    "answer7_dict={'a': 1, 'b': 2, 'c': 3}"
   ]
  },
  {
   "cell_type": "code",
   "execution_count": 52,
   "id": "19a68b0a-0008-4434-9d8f-096d7ef9fc36",
   "metadata": {},
   "outputs": [
    {
     "data": {
      "text/plain": [
       "{'a': 1, 'b': 2, 'c': 3}"
      ]
     },
     "execution_count": 52,
     "metadata": {},
     "output_type": "execute_result"
    }
   ],
   "source": [
    "answer7_dict"
   ]
  },
  {
   "cell_type": "code",
   "execution_count": 54,
   "id": "ae0df562-c54e-4348-9884-81ccddd9276d",
   "metadata": {},
   "outputs": [
    {
     "data": {
      "text/plain": [
       "dict_keys(['a', 'b', 'c'])"
      ]
     },
     "execution_count": 54,
     "metadata": {},
     "output_type": "execute_result"
    }
   ],
   "source": [
    "answer7_dict.keys()"
   ]
  },
  {
   "cell_type": "code",
   "execution_count": 55,
   "id": "59a4dcac-4205-4f2e-9157-b0eaadd59c7c",
   "metadata": {},
   "outputs": [
    {
     "data": {
      "text/plain": [
       "dict_values([1, 2, 3])"
      ]
     },
     "execution_count": 55,
     "metadata": {},
     "output_type": "execute_result"
    }
   ],
   "source": [
    "answer7_dict.values()"
   ]
  },
  {
   "cell_type": "code",
   "execution_count": 56,
   "id": "59636855-d5c8-411e-b084-f295ed49d2aa",
   "metadata": {},
   "outputs": [
    {
     "data": {
      "text/plain": [
       "dict_items([('a', 1), ('b', 2), ('c', 3)])"
      ]
     },
     "execution_count": 56,
     "metadata": {},
     "output_type": "execute_result"
    }
   ],
   "source": [
    "answer7_dict.items()"
   ]
  },
  {
   "cell_type": "code",
   "execution_count": null,
   "id": "d2896a93-2ddc-4ec9-b6c4-0ee46414aa20",
   "metadata": {},
   "outputs": [],
   "source": []
  }
 ],
 "metadata": {
  "kernelspec": {
   "display_name": "Python 3 (ipykernel)",
   "language": "python",
   "name": "python3"
  },
  "language_info": {
   "codemirror_mode": {
    "name": "ipython",
    "version": 3
   },
   "file_extension": ".py",
   "mimetype": "text/x-python",
   "name": "python",
   "nbconvert_exporter": "python",
   "pygments_lexer": "ipython3",
   "version": "3.10.8"
  }
 },
 "nbformat": 4,
 "nbformat_minor": 5
}
