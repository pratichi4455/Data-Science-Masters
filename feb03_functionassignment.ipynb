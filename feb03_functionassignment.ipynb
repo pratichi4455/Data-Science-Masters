{
 "cells": [
  {
   "cell_type": "markdown",
   "id": "6183a889-be52-4fec-9beb-afcea50d6c52",
   "metadata": {},
   "source": [
    "Answer of Question 1"
   ]
  },
  {
   "cell_type": "code",
   "execution_count": 1,
   "id": "6fd6e554-1aaf-43e7-ba38-34ea40d13478",
   "metadata": {},
   "outputs": [],
   "source": [
    "def find_odd_numbers():\n",
    "    odd_numbers = []\n",
    "    for number in range(1, 26):\n",
    "        if number % 2 != 0:\n",
    "            odd_numbers.append(number)\n",
    "    return odd_numbers"
   ]
  },
  {
   "cell_type": "code",
   "execution_count": 2,
   "id": "4a2a7aed-b056-4e55-b5c8-9b560ed815d1",
   "metadata": {},
   "outputs": [],
   "source": [
    "output = find_odd_numbers()"
   ]
  },
  {
   "cell_type": "code",
   "execution_count": 3,
   "id": "66ee46c3-27fc-4772-9754-4486b1978cc6",
   "metadata": {},
   "outputs": [
    {
     "data": {
      "text/plain": [
       "[1, 3, 5, 7, 9, 11, 13, 15, 17, 19, 21, 23, 25]"
      ]
     },
     "execution_count": 3,
     "metadata": {},
     "output_type": "execute_result"
    }
   ],
   "source": [
    "output"
   ]
  },
  {
   "cell_type": "markdown",
   "id": "28bdcc38-1c23-482e-97d7-14da711a8a7b",
   "metadata": {},
   "source": [
    "Answer of Question 2"
   ]
  },
  {
   "cell_type": "code",
   "execution_count": 4,
   "id": "36c72783-8230-4be5-97fe-5078e1fe3330",
   "metadata": {},
   "outputs": [],
   "source": [
    "def sum_numbers(*args):\n",
    "    total = 0\n",
    "    for num in args:\n",
    "        total += num\n",
    "    return total\n"
   ]
  },
  {
   "cell_type": "code",
   "execution_count": 5,
   "id": "4c89f72e-67b0-497d-97c7-83200494dae8",
   "metadata": {},
   "outputs": [],
   "source": [
    "output = sum_numbers(1, 2, 3, 4, 5)"
   ]
  },
  {
   "cell_type": "code",
   "execution_count": 6,
   "id": "fe38a41f-4e17-4adb-86cd-c29ff0e155a9",
   "metadata": {},
   "outputs": [
    {
     "data": {
      "text/plain": [
       "15"
      ]
     },
     "execution_count": 6,
     "metadata": {},
     "output_type": "execute_result"
    }
   ],
   "source": [
    "output"
   ]
  },
  {
   "cell_type": "code",
   "execution_count": 7,
   "id": "66861d9b-aa3d-4245-a8b1-85862c105c7e",
   "metadata": {},
   "outputs": [
    {
     "name": "stdout",
     "output_type": "stream",
     "text": [
      "name: abcabc\n",
      "age: 30\n",
      "city: India\n"
     ]
    }
   ],
   "source": [
    "def print_info(**kwargs):\n",
    "    for key, value in kwargs.items():\n",
    "        print(f\"{key}: {value}\")\n",
    "\n",
    "print_info(name=\"abcabc\", age=30, city=\"India\")"
   ]
  },
  {
   "cell_type": "markdown",
   "id": "8fc530d3-1c66-4acf-aa98-acba3cdada84",
   "metadata": {},
   "source": [
    "Answer of Question 3"
   ]
  },
  {
   "cell_type": "code",
   "execution_count": 14,
   "id": "660c2650-8051-44fa-afbb-c5350c2ebea6",
   "metadata": {},
   "outputs": [],
   "source": [
    "answer3_list=[2, 4, 6, 8, 10, 12, 14, 16, 18, 20]\n",
    "answer3_iterator=iter(answer3_list)"
   ]
  },
  {
   "cell_type": "code",
   "execution_count": 15,
   "id": "782b76e0-aae0-4341-a2e7-7024aae32bc7",
   "metadata": {},
   "outputs": [
    {
     "name": "stdout",
     "output_type": "stream",
     "text": [
      "2\n",
      "4\n",
      "6\n",
      "8\n",
      "10\n"
     ]
    }
   ],
   "source": [
    "for _ in range(5): \n",
    "    output = next(answer3_iterator)\n",
    "    print(output)"
   ]
  },
  {
   "cell_type": "markdown",
   "id": "61ef367e-6d50-4a0c-9e68-28ad146e8368",
   "metadata": {},
   "source": [
    "Answer of Question 4"
   ]
  },
  {
   "cell_type": "code",
   "execution_count": 16,
   "id": "0d683bad-54e7-46a3-a3e4-981697c6f8ae",
   "metadata": {},
   "outputs": [],
   "source": [
    "def answer4(n):\n",
    "    while n > 0:\n",
    "        yield n\n",
    "        n -= 1\n",
    "countdown_gen = answer4(5)"
   ]
  },
  {
   "cell_type": "code",
   "execution_count": 17,
   "id": "fe4fa432-fc5a-4d3c-b2a7-89e53edf558f",
   "metadata": {},
   "outputs": [
    {
     "name": "stdout",
     "output_type": "stream",
     "text": [
      "5\n",
      "4\n",
      "3\n",
      "2\n",
      "1\n"
     ]
    }
   ],
   "source": [
    "for value in countdown_gen:\n",
    "    print(value)"
   ]
  },
  {
   "cell_type": "markdown",
   "id": "0eab8006-89cb-4e23-bcb2-906c091b8970",
   "metadata": {},
   "source": [
    "Answer of Question 5"
   ]
  },
  {
   "cell_type": "code",
   "execution_count": 20,
   "id": "4824e371-dfa6-4819-9621-0cb8e6c05504",
   "metadata": {},
   "outputs": [],
   "source": [
    "def answer5(num):\n",
    "    if num < 2:\n",
    "        return False\n",
    "    for i in range(2, int(num**0.5) + 1):\n",
    "        if num % i == 0:\n",
    "            return False\n",
    "    return True"
   ]
  },
  {
   "cell_type": "code",
   "execution_count": 21,
   "id": "7cfaac62-b3da-4664-b609-d694fce8332f",
   "metadata": {},
   "outputs": [],
   "source": [
    "def generate_primes(limit):\n",
    "    count = 0\n",
    "    number = 2\n",
    "    while count < limit:\n",
    "        if answer5(number):\n",
    "            yield number\n",
    "            count += 1\n",
    "        number += 1"
   ]
  },
  {
   "cell_type": "code",
   "execution_count": 22,
   "id": "909b4ada-2976-460b-b8c8-610b6bff00ff",
   "metadata": {},
   "outputs": [
    {
     "name": "stdout",
     "output_type": "stream",
     "text": [
      "2\n",
      "3\n",
      "5\n",
      "7\n",
      "11\n",
      "13\n",
      "17\n",
      "19\n",
      "23\n",
      "29\n",
      "31\n",
      "37\n",
      "41\n",
      "43\n",
      "47\n",
      "53\n",
      "59\n",
      "61\n",
      "67\n",
      "71\n"
     ]
    }
   ],
   "source": [
    "prime_gen = generate_primes(20)\n",
    "for _ in range(20):\n",
    "    print(next(prime_gen))"
   ]
  },
  {
   "cell_type": "code",
   "execution_count": null,
   "id": "e5ab8358-fb2a-41cd-be39-154ba9eb5c41",
   "metadata": {},
   "outputs": [],
   "source": []
  }
 ],
 "metadata": {
  "kernelspec": {
   "display_name": "Python 3 (ipykernel)",
   "language": "python",
   "name": "python3"
  },
  "language_info": {
   "codemirror_mode": {
    "name": "ipython",
    "version": 3
   },
   "file_extension": ".py",
   "mimetype": "text/x-python",
   "name": "python",
   "nbconvert_exporter": "python",
   "pygments_lexer": "ipython3",
   "version": "3.10.8"
  }
 },
 "nbformat": 4,
 "nbformat_minor": 5
}
